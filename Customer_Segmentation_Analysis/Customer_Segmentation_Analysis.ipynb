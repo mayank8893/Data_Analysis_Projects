{
 "cells": [
  {
   "cell_type": "markdown",
   "metadata": {},
   "source": [
    "# Customer segmentation Analysis\n",
    "\n",
    "In this project we will explore a dataset of product sales in Brazil. The dataset has information about the geological location of sales, revenue distribution, customer distribution, delivery information, customer behavior and product popularity."
   ]
  },
  {
   "cell_type": "code",
   "execution_count": 1,
   "metadata": {},
   "outputs": [],
   "source": [
    "# importing all the necessary libraries.\n",
    "import numpy as np\n",
    "import pandas as pd\n",
    "import seaborn as sns\n",
    "import matplotlib.pyplot as plt"
   ]
  },
  {
   "cell_type": "code",
   "execution_count": 2,
   "metadata": {},
   "outputs": [],
   "source": [
    "# reading in the datasets.\n",
    "geo = pd.read_csv('geolocation_olist_public_dataset.csv')\n",
    "order = pd.read_csv('olist_public_dataset_v2.csv')\n",
    "cust = pd.read_csv('olist_public_dataset_v2_customers.csv')\n",
    "pay = pd.read_csv('olist_public_dataset_v2_payments.csv')\n",
    "trans = pd.read_csv('product_category_name_translation.csv')"
   ]
  },
  {
   "cell_type": "markdown",
   "metadata": {},
   "source": [
    "### Geological location data exploration.\n",
    "\n",
    "Exploring the data with respect to geological location."
   ]
  },
  {
   "cell_type": "code",
   "execution_count": 3,
   "metadata": {},
   "outputs": [
    {
     "data": {
      "text/html": [
       "<div>\n",
       "<style scoped>\n",
       "    .dataframe tbody tr th:only-of-type {\n",
       "        vertical-align: middle;\n",
       "    }\n",
       "\n",
       "    .dataframe tbody tr th {\n",
       "        vertical-align: top;\n",
       "    }\n",
       "\n",
       "    .dataframe thead th {\n",
       "        text-align: right;\n",
       "    }\n",
       "</style>\n",
       "<table border=\"1\" class=\"dataframe\">\n",
       "  <thead>\n",
       "    <tr style=\"text-align: right;\">\n",
       "      <th></th>\n",
       "      <th>zip_code_prefix</th>\n",
       "      <th>city</th>\n",
       "      <th>state</th>\n",
       "      <th>lat</th>\n",
       "      <th>lng</th>\n",
       "    </tr>\n",
       "  </thead>\n",
       "  <tbody>\n",
       "    <tr>\n",
       "      <th>0</th>\n",
       "      <td>10</td>\n",
       "      <td>sao paulo</td>\n",
       "      <td>sp</td>\n",
       "      <td>-23.547807</td>\n",
       "      <td>-46.636122</td>\n",
       "    </tr>\n",
       "    <tr>\n",
       "      <th>1</th>\n",
       "      <td>10</td>\n",
       "      <td>sao paulo</td>\n",
       "      <td>sp</td>\n",
       "      <td>-23.546081</td>\n",
       "      <td>-46.644820</td>\n",
       "    </tr>\n",
       "    <tr>\n",
       "      <th>2</th>\n",
       "      <td>10</td>\n",
       "      <td>sao paulo</td>\n",
       "      <td>sp</td>\n",
       "      <td>-23.540984</td>\n",
       "      <td>-46.642569</td>\n",
       "    </tr>\n",
       "    <tr>\n",
       "      <th>3</th>\n",
       "      <td>10</td>\n",
       "      <td>sao paulo</td>\n",
       "      <td>sp</td>\n",
       "      <td>-23.546758</td>\n",
       "      <td>-46.645771</td>\n",
       "    </tr>\n",
       "    <tr>\n",
       "      <th>4</th>\n",
       "      <td>10</td>\n",
       "      <td>sao paulo</td>\n",
       "      <td>sp</td>\n",
       "      <td>-23.546362</td>\n",
       "      <td>-46.643073</td>\n",
       "    </tr>\n",
       "  </tbody>\n",
       "</table>\n",
       "</div>"
      ],
      "text/plain": [
       "   zip_code_prefix       city state        lat        lng\n",
       "0               10  sao paulo    sp -23.547807 -46.636122\n",
       "1               10  sao paulo    sp -23.546081 -46.644820\n",
       "2               10  sao paulo    sp -23.540984 -46.642569\n",
       "3               10  sao paulo    sp -23.546758 -46.645771\n",
       "4               10  sao paulo    sp -23.546362 -46.643073"
      ]
     },
     "execution_count": 3,
     "metadata": {},
     "output_type": "execute_result"
    }
   ],
   "source": [
    "geo.head()"
   ]
  },
  {
   "cell_type": "code",
   "execution_count": 4,
   "metadata": {},
   "outputs": [],
   "source": [
    "# dropping duplicates.\n",
    "geo = geo.drop_duplicates(subset=None, keep='first', inplace=False)"
   ]
  },
  {
   "cell_type": "markdown",
   "metadata": {},
   "source": [
    "**Grouping zip codes to same latitude and longitude by taking their mean.**"
   ]
  },
  {
   "cell_type": "code",
   "execution_count": 5,
   "metadata": {},
   "outputs": [
    {
     "data": {
      "text/html": [
       "<div>\n",
       "<style scoped>\n",
       "    .dataframe tbody tr th:only-of-type {\n",
       "        vertical-align: middle;\n",
       "    }\n",
       "\n",
       "    .dataframe tbody tr th {\n",
       "        vertical-align: top;\n",
       "    }\n",
       "\n",
       "    .dataframe thead th {\n",
       "        text-align: right;\n",
       "    }\n",
       "</style>\n",
       "<table border=\"1\" class=\"dataframe\">\n",
       "  <thead>\n",
       "    <tr style=\"text-align: right;\">\n",
       "      <th></th>\n",
       "      <th>zip_code_prefix</th>\n",
       "      <th>lat</th>\n",
       "      <th>lng</th>\n",
       "      <th>city</th>\n",
       "      <th>count</th>\n",
       "    </tr>\n",
       "  </thead>\n",
       "  <tbody>\n",
       "    <tr>\n",
       "      <th>0</th>\n",
       "      <td>10</td>\n",
       "      <td>-23.545520</td>\n",
       "      <td>-46.636225</td>\n",
       "      <td>sao paulo</td>\n",
       "      <td>323</td>\n",
       "    </tr>\n",
       "    <tr>\n",
       "      <th>1</th>\n",
       "      <td>11</td>\n",
       "      <td>-23.528066</td>\n",
       "      <td>-46.649218</td>\n",
       "      <td>sao paulo</td>\n",
       "      <td>316</td>\n",
       "    </tr>\n",
       "    <tr>\n",
       "      <th>2</th>\n",
       "      <td>12</td>\n",
       "      <td>-23.540822</td>\n",
       "      <td>-46.654373</td>\n",
       "      <td>sao paulo</td>\n",
       "      <td>419</td>\n",
       "    </tr>\n",
       "    <tr>\n",
       "      <th>3</th>\n",
       "      <td>13</td>\n",
       "      <td>-23.556829</td>\n",
       "      <td>-46.648644</td>\n",
       "      <td>sao paulo</td>\n",
       "      <td>348</td>\n",
       "    </tr>\n",
       "    <tr>\n",
       "      <th>4</th>\n",
       "      <td>14</td>\n",
       "      <td>-23.567885</td>\n",
       "      <td>-46.663207</td>\n",
       "      <td>sao paulo</td>\n",
       "      <td>414</td>\n",
       "    </tr>\n",
       "  </tbody>\n",
       "</table>\n",
       "</div>"
      ],
      "text/plain": [
       "   zip_code_prefix        lat        lng       city  count\n",
       "0               10 -23.545520 -46.636225  sao paulo    323\n",
       "1               11 -23.528066 -46.649218  sao paulo    316\n",
       "2               12 -23.540822 -46.654373  sao paulo    419\n",
       "3               13 -23.556829 -46.648644  sao paulo    348\n",
       "4               14 -23.567885 -46.663207  sao paulo    414"
      ]
     },
     "execution_count": 5,
     "metadata": {},
     "output_type": "execute_result"
    }
   ],
   "source": [
    "centroid = geo.groupby('zip_code_prefix').agg({\n",
    "    'lat': 'median',\n",
    "    'lng': 'median',\n",
    "    'city': pd.Series.mode\n",
    "}).reset_index()\n",
    "centroid['count'] = geo.groupby('zip_code_prefix').size().reset_index(\n",
    "    name='counts')['counts']\n",
    "centroid.head()"
   ]
  },
  {
   "cell_type": "code",
   "execution_count": null,
   "metadata": {},
   "outputs": [],
   "source": []
  },
  {
   "cell_type": "code",
   "execution_count": 27,
   "metadata": {},
   "outputs": [
    {
     "data": {
      "text/plain": [
       "Text(0.5, 1.0, 'Scatter Plot of Centroid Data')"
      ]
     },
     "execution_count": 27,
     "metadata": {},
     "output_type": "execute_result"
    },
    {
     "data": {
      "image/png": "[encoded data removed]",
      "text/plain": [
       "<Figure size 432x288 with 2 Axes>"
      ]
     },
     "metadata": {
      "needs_background": "dark"
     },
     "output_type": "display_data"
    }
   ],
   "source": [
    "%matplotlib inline\n",
    "# Distribution of markets in Brazil.\n",
    "latitudes = centroid[\"lat\"]\n",
    "longitudes = centroid[\"lng\"]\n",
    "counts = centroid[\"count\"]\n",
    "\n",
    "# Create a scatter plot\n",
    "plt.scatter(longitudes, latitudes, s=10, c=counts, alpha=0.3)\n",
    "\n",
    "# Adjust the size range of points\n",
    "plt.ylim(min(latitudes) - 1, max(latitudes) + 1)\n",
    "plt.xlim(min(longitudes) - 1, max(longitudes) + 1)\n",
    "\n",
    "# Add colorbar\n",
    "cbar = plt.colorbar()\n",
    "cbar.set_label(\"Count\")\n",
    "\n",
    "# Add labels and title\n",
    "plt.xlabel(\"Longitude\")\n",
    "plt.ylabel(\"Latitude\")\n",
    "plt.title(\"Scatter Plot of Centroid Data\")"
   ]
  },
  {
   "cell_type": "markdown",
   "metadata": {},
   "source": [
    "As we can see, the market is distributed highly in Southern Brazil approximately around lat: -22 and lng: -46.  If the company is interested in expanding the market it is **highly recommended to expand the market in north and west Brazil.**"
   ]
  },
  {
   "cell_type": "markdown",
   "metadata": {},
   "source": [
    "### Revenue Distribution\n",
    "\n",
    "We will join the order dataset and geological dataset before doing analysis."
   ]
  },
  {
   "cell_type": "code",
   "execution_count": 16,
   "metadata": {},
   "outputs": [
    {
     "data": {
      "text/html": [
       "<div>\n",
       "<style scoped>\n",
       "    .dataframe tbody tr th:only-of-type {\n",
       "        vertical-align: middle;\n",
       "    }\n",
       "\n",
       "    .dataframe tbody tr th {\n",
       "        vertical-align: top;\n",
       "    }\n",
       "\n",
       "    .dataframe thead th {\n",
       "        text-align: right;\n",
       "    }\n",
       "</style>\n",
       "<table border=\"1\" class=\"dataframe\">\n",
       "  <thead>\n",
       "    <tr style=\"text-align: right;\">\n",
       "      <th></th>\n",
       "      <th>order_id</th>\n",
       "      <th>order_status</th>\n",
       "      <th>order_products_value</th>\n",
       "      <th>order_freight_value</th>\n",
       "      <th>order_items_qty</th>\n",
       "      <th>order_sellers_qty</th>\n",
       "      <th>order_purchase_timestamp</th>\n",
       "      <th>order_aproved_at</th>\n",
       "      <th>order_estimated_delivery_date</th>\n",
       "      <th>order_delivered_customer_date</th>\n",
       "      <th>...</th>\n",
       "      <th>product_name_lenght</th>\n",
       "      <th>product_description_lenght</th>\n",
       "      <th>product_photos_qty</th>\n",
       "      <th>product_id</th>\n",
       "      <th>review_id</th>\n",
       "      <th>review_score</th>\n",
       "      <th>review_comment_title</th>\n",
       "      <th>review_comment_message</th>\n",
       "      <th>review_creation_date</th>\n",
       "      <th>review_answer_timestamp</th>\n",
       "    </tr>\n",
       "  </thead>\n",
       "  <tbody>\n",
       "    <tr>\n",
       "      <th>0</th>\n",
       "      <td>b95df3cef5297e79ef709ba256518f6f</td>\n",
       "      <td>delivered</td>\n",
       "      <td>349.90</td>\n",
       "      <td>13.84</td>\n",
       "      <td>1</td>\n",
       "      <td>1</td>\n",
       "      <td>2017-01-31 17:19:01.000000</td>\n",
       "      <td>2017-02-01 02:41:21.549551</td>\n",
       "      <td>2017-03-15 00:00:00.000000</td>\n",
       "      <td>2017-02-06 11:04:24.154259</td>\n",
       "      <td>...</td>\n",
       "      <td>51</td>\n",
       "      <td>625</td>\n",
       "      <td>1</td>\n",
       "      <td>6cdd53843498f92890544667809f1595</td>\n",
       "      <td>b95df3cef5297e79ef709ba256518f6f</td>\n",
       "      <td>5</td>\n",
       "      <td>NaN</td>\n",
       "      <td>NaN</td>\n",
       "      <td>2017-02-07 00:00:00.000000</td>\n",
       "      <td>2017-02-09 02:37:37+00:00</td>\n",
       "    </tr>\n",
       "    <tr>\n",
       "      <th>1</th>\n",
       "      <td>59af46052a799e80e2f0c665c587731d</td>\n",
       "      <td>delivered</td>\n",
       "      <td>15.00</td>\n",
       "      <td>15.10</td>\n",
       "      <td>1</td>\n",
       "      <td>1</td>\n",
       "      <td>2017-09-09 19:52:54.000000</td>\n",
       "      <td>2017-09-10 20:03:31.535281</td>\n",
       "      <td>2017-10-02 00:00:00.000000</td>\n",
       "      <td>2017-09-13 20:17:41.296915</td>\n",
       "      <td>...</td>\n",
       "      <td>44</td>\n",
       "      <td>1428</td>\n",
       "      <td>2</td>\n",
       "      <td>ae5cad88462eb7b7b61401e31c45618e</td>\n",
       "      <td>59af46052a799e80e2f0c665c587731d</td>\n",
       "      <td>5</td>\n",
       "      <td>NaN</td>\n",
       "      <td>entrega em 2 dias produto c boa qualidade otim...</td>\n",
       "      <td>2017-09-14 00:00:00.000000</td>\n",
       "      <td>2017-09-15 03:43:47+00:00</td>\n",
       "    </tr>\n",
       "    <tr>\n",
       "      <th>2</th>\n",
       "      <td>a3e6136894621db402a772c6bc72a12a</td>\n",
       "      <td>delivered</td>\n",
       "      <td>238.90</td>\n",
       "      <td>18.00</td>\n",
       "      <td>1</td>\n",
       "      <td>1</td>\n",
       "      <td>2017-01-30 17:00:09.000000</td>\n",
       "      <td>2017-01-30 17:31:25.438253</td>\n",
       "      <td>2017-03-07 00:00:00.000000</td>\n",
       "      <td>2017-02-06 15:43:04.758566</td>\n",
       "      <td>...</td>\n",
       "      <td>55</td>\n",
       "      <td>637</td>\n",
       "      <td>1</td>\n",
       "      <td>0c9ff9d8ed9b9bdd825487b3a66e05f5</td>\n",
       "      <td>a3e6136894621db402a772c6bc72a12a</td>\n",
       "      <td>5</td>\n",
       "      <td>NaN</td>\n",
       "      <td>produto veio antes do prazo informado muito ob...</td>\n",
       "      <td>2017-02-07 00:00:00.000000</td>\n",
       "      <td>2017-02-10 14:18:53+00:00</td>\n",
       "    </tr>\n",
       "    <tr>\n",
       "      <th>3</th>\n",
       "      <td>b675ea5a618922f6e679e30531b8957b</td>\n",
       "      <td>delivered</td>\n",
       "      <td>29.99</td>\n",
       "      <td>18.23</td>\n",
       "      <td>1</td>\n",
       "      <td>1</td>\n",
       "      <td>2018-03-11 18:18:36.000000</td>\n",
       "      <td>2018-03-11 18:30:37.931962</td>\n",
       "      <td>2018-04-03 00:00:00.000000</td>\n",
       "      <td>2018-04-03 20:36:43.778451</td>\n",
       "      <td>...</td>\n",
       "      <td>55</td>\n",
       "      <td>617</td>\n",
       "      <td>1</td>\n",
       "      <td>ad0a798e7941f3a5a2fb8139cb62ad78</td>\n",
       "      <td>b675ea5a618922f6e679e30531b8957b</td>\n",
       "      <td>4</td>\n",
       "      <td>NaN</td>\n",
       "      <td>NaN</td>\n",
       "      <td>2018-04-04 00:00:00.000000</td>\n",
       "      <td>2018-04-05 02:52:31+00:00</td>\n",
       "    </tr>\n",
       "    <tr>\n",
       "      <th>4</th>\n",
       "      <td>195a8be6794c487fe6cfbb97b7c61902</td>\n",
       "      <td>delivered</td>\n",
       "      <td>295.99</td>\n",
       "      <td>47.65</td>\n",
       "      <td>1</td>\n",
       "      <td>1</td>\n",
       "      <td>2017-04-20 08:01:08.000000</td>\n",
       "      <td>2017-04-25 08:05:40.405383</td>\n",
       "      <td>2017-05-24 00:00:00.000000</td>\n",
       "      <td>2017-05-04 18:47:45.721758</td>\n",
       "      <td>...</td>\n",
       "      <td>49</td>\n",
       "      <td>558</td>\n",
       "      <td>2</td>\n",
       "      <td>eaf2046d4c87809247a30050ea13df03</td>\n",
       "      <td>195a8be6794c487fe6cfbb97b7c61902</td>\n",
       "      <td>5</td>\n",
       "      <td>NaN</td>\n",
       "      <td>NaN</td>\n",
       "      <td>2017-05-05 00:00:00.000000</td>\n",
       "      <td>2017-05-08 15:20:18+00:00</td>\n",
       "    </tr>\n",
       "  </tbody>\n",
       "</table>\n",
       "<p>5 rows × 25 columns</p>\n",
       "</div>"
      ],
      "text/plain": [
       "                           order_id order_status  order_products_value  \\\n",
       "0  b95df3cef5297e79ef709ba256518f6f    delivered                349.90   \n",
       "1  59af46052a799e80e2f0c665c587731d    delivered                 15.00   \n",
       "2  a3e6136894621db402a772c6bc72a12a    delivered                238.90   \n",
       "3  b675ea5a618922f6e679e30531b8957b    delivered                 29.99   \n",
       "4  195a8be6794c487fe6cfbb97b7c61902    delivered                295.99   \n",
       "\n",
       "   order_freight_value  order_items_qty  order_sellers_qty  \\\n",
       "0                13.84                1                  1   \n",
       "1                15.10                1                  1   \n",
       "2                18.00                1                  1   \n",
       "3                18.23                1                  1   \n",
       "4                47.65                1                  1   \n",
       "\n",
       "     order_purchase_timestamp            order_aproved_at  \\\n",
       "0  2017-01-31 17:19:01.000000  2017-02-01 02:41:21.549551   \n",
       "1  2017-09-09 19:52:54.000000  2017-09-10 20:03:31.535281   \n",
       "2  2017-01-30 17:00:09.000000  2017-01-30 17:31:25.438253   \n",
       "3  2018-03-11 18:18:36.000000  2018-03-11 18:30:37.931962   \n",
       "4  2017-04-20 08:01:08.000000  2017-04-25 08:05:40.405383   \n",
       "\n",
       "  order_estimated_delivery_date order_delivered_customer_date  ...  \\\n",
       "0    2017-03-15 00:00:00.000000    2017-02-06 11:04:24.154259  ...   \n",
       "1    2017-10-02 00:00:00.000000    2017-09-13 20:17:41.296915  ...   \n",
       "2    2017-03-07 00:00:00.000000    2017-02-06 15:43:04.758566  ...   \n",
       "3    2018-04-03 00:00:00.000000    2018-04-03 20:36:43.778451  ...   \n",
       "4    2017-05-24 00:00:00.000000    2017-05-04 18:47:45.721758  ...   \n",
       "\n",
       "  product_name_lenght product_description_lenght product_photos_qty  \\\n",
       "0                  51                        625                  1   \n",
       "1                  44                       1428                  2   \n",
       "2                  55                        637                  1   \n",
       "3                  55                        617                  1   \n",
       "4                  49                        558                  2   \n",
       "\n",
       "                         product_id                         review_id  \\\n",
       "0  6cdd53843498f92890544667809f1595  b95df3cef5297e79ef709ba256518f6f   \n",
       "1  ae5cad88462eb7b7b61401e31c45618e  59af46052a799e80e2f0c665c587731d   \n",
       "2  0c9ff9d8ed9b9bdd825487b3a66e05f5  a3e6136894621db402a772c6bc72a12a   \n",
       "3  ad0a798e7941f3a5a2fb8139cb62ad78  b675ea5a618922f6e679e30531b8957b   \n",
       "4  eaf2046d4c87809247a30050ea13df03  195a8be6794c487fe6cfbb97b7c61902   \n",
       "\n",
       "   review_score  review_comment_title  \\\n",
       "0             5                   NaN   \n",
       "1             5                   NaN   \n",
       "2             5                   NaN   \n",
       "3             4                   NaN   \n",
       "4             5                   NaN   \n",
       "\n",
       "                              review_comment_message  \\\n",
       "0                                                NaN   \n",
       "1  entrega em 2 dias produto c boa qualidade otim...   \n",
       "2  produto veio antes do prazo informado muito ob...   \n",
       "3                                                NaN   \n",
       "4                                                NaN   \n",
       "\n",
       "         review_creation_date    review_answer_timestamp  \n",
       "0  2017-02-07 00:00:00.000000  2017-02-09 02:37:37+00:00  \n",
       "1  2017-09-14 00:00:00.000000  2017-09-15 03:43:47+00:00  \n",
       "2  2017-02-07 00:00:00.000000  2017-02-10 14:18:53+00:00  \n",
       "3  2018-04-04 00:00:00.000000  2018-04-05 02:52:31+00:00  \n",
       "4  2017-05-05 00:00:00.000000  2017-05-08 15:20:18+00:00  \n",
       "\n",
       "[5 rows x 25 columns]"
      ]
     },
     "execution_count": 16,
     "metadata": {},
     "output_type": "execute_result"
    }
   ],
   "source": [
    "order.head()"
   ]
  },
  {
   "cell_type": "code",
   "execution_count": 17,
   "metadata": {},
   "outputs": [],
   "source": [
    "# dropping duplicatess.\n",
    "order = order.drop_duplicates(subset=None, keep='first', inplace=False)"
   ]
  },
  {
   "cell_type": "code",
   "execution_count": 18,
   "metadata": {},
   "outputs": [],
   "source": [
    "# merging the data.\n",
    "geo_order = pd.merge(centroid,\n",
    "                     order,\n",
    "                     how='right',\n",
    "                     left_on='zip_code_prefix',\n",
    "                     right_on='customer_zip_code_prefix')"
   ]
  },
  {
   "cell_type": "code",
   "execution_count": 19,
   "metadata": {},
   "outputs": [],
   "source": [
    "# grouping the orders by zip code:\n",
    "geo_rev = geo_order.groupby('customer_zip_code_prefix').agg({\n",
    "    'lat':\n",
    "    'median',\n",
    "    'lng':\n",
    "    'median',\n",
    "    'order_products_value':\n",
    "    'sum'\n",
    "}).reset_index()"
   ]
  },
  {
   "cell_type": "code",
   "execution_count": 31,
   "metadata": {},
   "outputs": [
    {
     "data": {
      "text/plain": [
       "Text(0.5, 1.0, 'Density Map of Geo_rev Data')"
      ]
     },
     "execution_count": 31,
     "metadata": {},
     "output_type": "execute_result"
    },
    {
     "data": {
      "image/png": "[encoded data removed]",
      "text/plain": [
       "<Figure size 432x288 with 2 Axes>"
      ]
     },
     "metadata": {},
     "output_type": "display_data"
    }
   ],
   "source": [
    "latitudes = geo_rev[\"lat\"]\n",
    "longitudes = geo_rev[\"lng\"]\n",
    "order_values = geo_rev[\"order_products_value\"]\n",
    "\n",
    "# Create a scatter plot with colormap representing density\n",
    "plt.scatter(longitudes, latitudes, c=order_values, cmap=\"YlOrRd\", s=10, alpha=0.6)\n",
    "\n",
    "# Add colorbar\n",
    "cbar = plt.colorbar()\n",
    "cbar.set_label(\"Count\")\n",
    "\n",
    "# Set map style\n",
    "plt.style.use(\"dark_background\")\n",
    "\n",
    "# Add labels and title\n",
    "plt.xlabel(\"Longitude\")\n",
    "plt.ylabel(\"Latitude\")\n",
    "plt.title(\"Density Map of Geo_rev Data\")\n"
   ]
  },
  {
   "cell_type": "markdown",
   "metadata": {},
   "source": [
    "As shown in the map above, we can conclude there are three main hotspots which are located in south-eastern Brazil. These three places are the market with the highest revenue. **To raise company's revenue, it is highly recommended to add more market around these three hotspots.** "
   ]
  },
  {
   "cell_type": "markdown",
   "metadata": {},
   "source": [
    "### Customer Distribution"
   ]
  },
  {
   "cell_type": "code",
   "execution_count": 32,
   "metadata": {},
   "outputs": [],
   "source": [
    "# Grouping customers by zip code.\n",
    "geo_order = geo_order.dropna(subset=['zip_code_prefix'])\n",
    "geo_cust = geo_order.groupby('customer_zip_code_prefix').agg({\n",
    "    'lat':\n",
    "    'median',\n",
    "    'lng':\n",
    "    'median',\n",
    "    'customer_id':\n",
    "    'count'\n",
    "}).reset_index()"
   ]
  },
  {
   "cell_type": "code",
   "execution_count": 35,
   "metadata": {},
   "outputs": [
    {
     "data": {
      "text/plain": [
       "Text(0.5, 1.0, 'Density Map of Geo_cust Data')"
      ]
     },
     "execution_count": 35,
     "metadata": {},
     "output_type": "execute_result"
    },
    {
     "data": {
      "image/png": "[encoded data removed]",
      "text/plain": [
       "<Figure size 432x288 with 2 Axes>"
      ]
     },
     "metadata": {},
     "output_type": "display_data"
    }
   ],
   "source": [
    "# geological distribution of customers.\n",
    "latitudes = geo_cust[\"lat\"]\n",
    "longitudes = geo_cust[\"lng\"]\n",
    "customer_ids = geo_cust[\"customer_id\"]\n",
    "\n",
    "# Create a scatter plot with colormap representing density\n",
    "plt.scatter(longitudes, latitudes, c=customer_ids, cmap=\"YlOrRd\", s=10, alpha=0.6)\n",
    "\n",
    "# Add colorbar\n",
    "cbar = plt.colorbar()\n",
    "cbar.set_label(\"Customer ID\")\n",
    "\n",
    "# Set map style\n",
    "#plt.style.use(\"seaborn-dark\")\n",
    "\n",
    "# Add labels and title\n",
    "plt.xlabel(\"Longitude\")\n",
    "plt.ylabel(\"Latitude\")\n",
    "plt.title(\"Density Map of Geo_cust Data\")\n"
   ]
  },
  {
   "cell_type": "markdown",
   "metadata": {},
   "source": [
    "**Most of the customers are located in southeastern Brazil which leads to most sales in this region.**"
   ]
  },
  {
   "cell_type": "markdown",
   "metadata": {},
   "source": [
    "With this geological approach, there are a few things I can recommend:\n",
    "\n",
    "1. For branding expansion, it is best for the company to expand the market at the west and north Brazil. However, with low income from these location, it would be better to build only a few market for each city or area since the interest of the customer is currently low.\n",
    "2. For increase in revenue, it is best for the company to expand the market at these three hotspots:\n",
    "    lat:-23, lng:-46\n",
    "    lat: -22, lng:-43\n",
    "    lat: -19, lng:-43\n",
    "    Since these hotspots have the highest number of customer and revenue, it shows that the customer around these hotspots interested with the market."
   ]
  },
  {
   "cell_type": "markdown",
   "metadata": {},
   "source": [
    "### Order date and time exploration"
   ]
  },
  {
   "cell_type": "code",
   "execution_count": 36,
   "metadata": {},
   "outputs": [],
   "source": [
    "# converting relevant columns to datetime\n",
    "geo_order['order_delivered_customer_date'] = pd.to_datetime(\n",
    "    geo_order['order_delivered_customer_date'])\n",
    "geo_order['order_estimated_delivery_date'] = pd.to_datetime(\n",
    "    geo_order['order_estimated_delivery_date'])"
   ]
  },
  {
   "cell_type": "code",
   "execution_count": 37,
   "metadata": {},
   "outputs": [],
   "source": [
    "# dropping the rows for which delivery date was empty as the order must have been cancelled.\n",
    "geo_order = geo_order.dropna(subset=['order_delivered_customer_date'])"
   ]
  },
  {
   "cell_type": "code",
   "execution_count": 38,
   "metadata": {},
   "outputs": [],
   "source": [
    "# calculating difference between delivery date and estimated delivery date.\n",
    "# ideally this should be 0 or negative.\n",
    "geo_order['range_time'] = (\n",
    "    geo_order['order_delivered_customer_date'] -\n",
    "    geo_order['order_estimated_delivery_date']).astype('timedelta64[D]')"
   ]
  },
  {
   "cell_type": "code",
   "execution_count": 39,
   "metadata": {},
   "outputs": [],
   "source": [
    "# calculating if an order was delayed or if it arrived early.\n",
    "delay = geo_order['range_time'][geo_order['range_time'] > 0]\n",
    "early = abs(geo_order['range_time'][geo_order['range_time'] < 0])"
   ]
  },
  {
   "cell_type": "code",
   "execution_count": 40,
   "metadata": {},
   "outputs": [
    {
     "data": {
      "text/plain": [
       "<matplotlib.axes._subplots.AxesSubplot at 0x7ff5a3b698d0>"
      ]
     },
     "execution_count": 40,
     "metadata": {},
     "output_type": "execute_result"
    },
    {
     "data": {
      "image/png": "[encoded data removed]",
      "text/plain": [
       "<Figure size 432x288 with 1 Axes>"
      ]
     },
     "metadata": {},
     "output_type": "display_data"
    }
   ],
   "source": [
    "# binning and plotting the early distribution.\n",
    "bins = [0, 3, 7, 14, 30, 90]\n",
    "labels = [\n",
    "    '1-3 days', '4-7 days', '7-14 days', '14-30 days', 'More than 1 month'\n",
    "]\n",
    "early = pd.cut(early, bins=bins, labels=labels)\n",
    "sns.countplot(y=early)"
   ]
  },
  {
   "cell_type": "markdown",
   "metadata": {},
   "source": [
    "Its good that the order are arriving usually early by 7-30 days, but **this shows a high level of inaccuracy in the delivery date estmation.**"
   ]
  },
  {
   "cell_type": "code",
   "execution_count": 41,
   "metadata": {},
   "outputs": [
    {
     "data": {
      "text/plain": [
       "<matplotlib.axes._subplots.AxesSubplot at 0x7ff5a6a6e4d0>"
      ]
     },
     "execution_count": 41,
     "metadata": {},
     "output_type": "execute_result"
    },
    {
     "data": {
      "image/png": "[encoded data removed]",
      "text/plain": [
       "<Figure size 432x288 with 1 Axes>"
      ]
     },
     "metadata": {},
     "output_type": "display_data"
    }
   ],
   "source": [
    "# binning and plotting the delay distribution.\n",
    "bins = [0, 3, 7, 14, 30, 90, 300]\n",
    "labels = [\n",
    "    '1-3 days', '4-7 days', '7-14 days', '14-30 days', '1-3 month',\n",
    "    'More than 3 months'\n",
    "]\n",
    "delay = pd.cut(delay, bins=bins, labels=labels)\n",
    "sns.countplot(y=delay)"
   ]
  },
  {
   "cell_type": "markdown",
   "metadata": {},
   "source": [
    "Most of the orders are delayed by 4-7 days. We can push these to 1-3 days to improve customer satisfaction."
   ]
  },
  {
   "cell_type": "code",
   "execution_count": 42,
   "metadata": {},
   "outputs": [],
   "source": [
    "# checking out which locations have delayed deliveries.\n",
    "geo_order['range_time_default'] = geo_order['range_time'].apply(\n",
    "    lambda x: 1 if x > 0 else 0)"
   ]
  },
  {
   "cell_type": "code",
   "execution_count": 43,
   "metadata": {},
   "outputs": [],
   "source": [
    "# grouping by zipcode.\n",
    "delay_place = geo_order.groupby('zip_code_prefix').agg({\n",
    "    'lat':\n",
    "    'median',\n",
    "    'lng':\n",
    "    'median',\n",
    "    'range_time_default':\n",
    "    'mean'\n",
    "})"
   ]
  },
  {
   "cell_type": "code",
   "execution_count": 46,
   "metadata": {},
   "outputs": [
    {
     "data": {
      "text/plain": [
       "Text(0.5, 1.0, 'Density Map of Delay_place Data')"
      ]
     },
     "execution_count": 46,
     "metadata": {},
     "output_type": "execute_result"
    },
    {
     "data": {
      "image/png": "[encoded data removed]",
      "text/plain": [
       "<Figure size 432x288 with 2 Axes>"
      ]
     },
     "metadata": {},
     "output_type": "display_data"
    }
   ],
   "source": [
    "latitudes = delay_place[\"lat\"]\n",
    "longitudes = delay_place[\"lng\"]\n",
    "range_times = delay_place[\"range_time_default\"]\n",
    "\n",
    "# Create a scatter plot with colormap representing density\n",
    "plt.scatter(longitudes, latitudes, c=range_times, cmap=\"YlOrRd\", s=10, alpha=0.6)\n",
    "\n",
    "# Add colorbar\n",
    "cbar = plt.colorbar()\n",
    "cbar.set_label(\"Range Time Default\")\n",
    "\n",
    "# Set map style\n",
    "plt.style.use(\"ggplot\")\n",
    "\n",
    "# Add labels and title\n",
    "plt.xlabel(\"Longitude\")\n",
    "plt.ylabel(\"Latitude\")\n",
    "plt.title(\"Density Map of Delay_place Data\")"
   ]
  },
  {
   "cell_type": "code",
   "execution_count": 47,
   "metadata": {},
   "outputs": [
    {
     "name": "stdout",
     "output_type": "stream",
     "text": [
      "normal: 1.259 % \n",
      "early: 92.44 % \n",
      "delay: 6.293 %\n"
     ]
    }
   ],
   "source": [
    "# printing percentage of early, delayed and on-time deliveries. \n",
    "normal = geo_order['range_time'][geo_order['range_time'] == 0]\n",
    "print('normal:',\n",
    "      round(normal.count() * 100 / geo_order['range_time'].count(),\n",
    "            3), '%', '\\nearly:',\n",
    "      round(early.count() * 100 / geo_order['range_time'].count(), 3), '%',\n",
    "      '\\ndelay:',\n",
    "      round(delay.count() * 100 / geo_order['range_time'].count(), 3), '%')"
   ]
  },
  {
   "cell_type": "markdown",
   "metadata": {},
   "source": [
    "### Order timing analysis\n",
    "\n",
    "We can look at the order timing and use to decide what time is the best for promotion as that will be the time when most customers are online looking at products."
   ]
  },
  {
   "cell_type": "code",
   "execution_count": 48,
   "metadata": {},
   "outputs": [],
   "source": [
    "# changing timestamp to datetime.\n",
    "order['order_purchase_timestamp'] = pd.to_datetime(\n",
    "    order['order_purchase_timestamp'])"
   ]
  },
  {
   "cell_type": "code",
   "execution_count": 49,
   "metadata": {},
   "outputs": [
    {
     "data": {
      "text/plain": [
       "<matplotlib.axes._subplots.AxesSubplot at 0x7ff5a68bcb10>"
      ]
     },
     "execution_count": 49,
     "metadata": {},
     "output_type": "execute_result"
    },
    {
     "data": {
      "image/png": "[encoded data removed]",
      "text/plain": [
       "<Figure size 432x288 with 1 Axes>"
      ]
     },
     "metadata": {},
     "output_type": "display_data"
    }
   ],
   "source": [
    "# plotting hourly distribution of orders.\n",
    "best_time_hours = (order.order_purchase_timestamp).dt.hour\n",
    "sns.distplot(best_time_hours)"
   ]
  },
  {
   "cell_type": "code",
   "execution_count": 52,
   "metadata": {},
   "outputs": [
    {
     "data": {
      "text/plain": [
       "<matplotlib.axes._subplots.AxesSubplot at 0x7ff5a5ad9e10>"
      ]
     },
     "execution_count": 52,
     "metadata": {},
     "output_type": "execute_result"
    },
    {
     "data": {
      "image/png": "[encoded data removed]",
      "text/plain": [
       "<Figure size 432x288 with 1 Axes>"
      ]
     },
     "metadata": {},
     "output_type": "display_data"
    }
   ],
   "source": [
    "# plotting daily distribution of orders.\n",
    "best_time_day = order.order_purchase_timestamp.apply(lambda x: x.weekday())\n",
    "sns.distplot(best_time_day)"
   ]
  },
  {
   "cell_type": "code",
   "execution_count": 53,
   "metadata": {},
   "outputs": [
    {
     "data": {
      "text/plain": [
       "<matplotlib.axes._subplots.AxesSubplot at 0x7ff5a5affed0>"
      ]
     },
     "execution_count": 53,
     "metadata": {},
     "output_type": "execute_result"
    },
    {
     "data": {
      "image/png": "[encoded data removed]",
      "text/plain": [
       "<Figure size 432x288 with 1 Axes>"
      ]
     },
     "metadata": {},
     "output_type": "display_data"
    }
   ],
   "source": [
    "# plotting monthly distribution of orders.\n",
    "best_time_month = (order.order_purchase_timestamp).dt.month\n",
    "sns.distplot(best_time_month)"
   ]
  },
  {
   "cell_type": "markdown",
   "metadata": {},
   "source": [
    "Based on these three plots we can say that:\n",
    "\n",
    "1. In between midnight and 8 AM is not a good time for promotion.\n",
    "2. Saturdays and Sundays are less preferable times for promotion.\n",
    "3. October is a less preferable month for promotion."
   ]
  },
  {
   "cell_type": "markdown",
   "metadata": {},
   "source": [
    "### Customer Behavior exploration.\n",
    "\n",
    "In this section we will explore customer behavior with respect to their ordering habits."
   ]
  },
  {
   "cell_type": "code",
   "execution_count": 54,
   "metadata": {},
   "outputs": [
    {
     "data": {
      "text/html": [
       "<div>\n",
       "<style scoped>\n",
       "    .dataframe tbody tr th:only-of-type {\n",
       "        vertical-align: middle;\n",
       "    }\n",
       "\n",
       "    .dataframe tbody tr th {\n",
       "        vertical-align: top;\n",
       "    }\n",
       "\n",
       "    .dataframe thead th {\n",
       "        text-align: right;\n",
       "    }\n",
       "</style>\n",
       "<table border=\"1\" class=\"dataframe\">\n",
       "  <thead>\n",
       "    <tr style=\"text-align: right;\">\n",
       "      <th></th>\n",
       "      <th>customer_id</th>\n",
       "      <th>customer_unique_id</th>\n",
       "    </tr>\n",
       "  </thead>\n",
       "  <tbody>\n",
       "    <tr>\n",
       "      <th>0</th>\n",
       "      <td>0000ca4ff2795842fd6b122c6d974468</td>\n",
       "      <td>ac0e5d7f07043dd32831bdad3b99ad26</td>\n",
       "    </tr>\n",
       "    <tr>\n",
       "      <th>1</th>\n",
       "      <td>00010f206878ba01f199aec4237de72e</td>\n",
       "      <td>4ed24aaed4079fe0661c0e4b3b420dff</td>\n",
       "    </tr>\n",
       "    <tr>\n",
       "      <th>2</th>\n",
       "      <td>00012a2ce6f8dcda20d059ce98491703</td>\n",
       "      <td>7e0e291c0f4fc2d69208954d26ed0586</td>\n",
       "    </tr>\n",
       "    <tr>\n",
       "      <th>3</th>\n",
       "      <td>000161a058600d5901f007fab4c27140</td>\n",
       "      <td>ff1dcb27ea444eddb94ea5fea77b875c</td>\n",
       "    </tr>\n",
       "    <tr>\n",
       "      <th>4</th>\n",
       "      <td>00017f1d6cce0d56046219a2cfabcbbb</td>\n",
       "      <td>237130c4b6717031ed62d9d0b16fd94f</td>\n",
       "    </tr>\n",
       "  </tbody>\n",
       "</table>\n",
       "</div>"
      ],
      "text/plain": [
       "                        customer_id                customer_unique_id\n",
       "0  0000ca4ff2795842fd6b122c6d974468  ac0e5d7f07043dd32831bdad3b99ad26\n",
       "1  00010f206878ba01f199aec4237de72e  4ed24aaed4079fe0661c0e4b3b420dff\n",
       "2  00012a2ce6f8dcda20d059ce98491703  7e0e291c0f4fc2d69208954d26ed0586\n",
       "3  000161a058600d5901f007fab4c27140  ff1dcb27ea444eddb94ea5fea77b875c\n",
       "4  00017f1d6cce0d56046219a2cfabcbbb  237130c4b6717031ed62d9d0b16fd94f"
      ]
     },
     "execution_count": 54,
     "metadata": {},
     "output_type": "execute_result"
    }
   ],
   "source": [
    "cust.head()"
   ]
  },
  {
   "cell_type": "code",
   "execution_count": 55,
   "metadata": {},
   "outputs": [],
   "source": [
    "# dropping duplicates.\n",
    "cust = cust.drop_duplicates(subset=None, keep='first', inplace=False)"
   ]
  },
  {
   "cell_type": "code",
   "execution_count": 56,
   "metadata": {},
   "outputs": [],
   "source": [
    "# merge with the order table on customer id.\n",
    "order_cust = pd.merge(cust,\n",
    "                      order,\n",
    "                      how='right',\n",
    "                      left_on='customer_id',\n",
    "                      right_on='customer_id')"
   ]
  },
  {
   "cell_type": "code",
   "execution_count": 57,
   "metadata": {},
   "outputs": [
    {
     "data": {
      "text/html": [
       "<div>\n",
       "<style scoped>\n",
       "    .dataframe tbody tr th:only-of-type {\n",
       "        vertical-align: middle;\n",
       "    }\n",
       "\n",
       "    .dataframe tbody tr th {\n",
       "        vertical-align: top;\n",
       "    }\n",
       "\n",
       "    .dataframe thead th {\n",
       "        text-align: right;\n",
       "    }\n",
       "</style>\n",
       "<table border=\"1\" class=\"dataframe\">\n",
       "  <thead>\n",
       "    <tr style=\"text-align: right;\">\n",
       "      <th></th>\n",
       "      <th>customer_id</th>\n",
       "      <th>customer_unique_id</th>\n",
       "      <th>order_id</th>\n",
       "      <th>order_status</th>\n",
       "      <th>order_products_value</th>\n",
       "      <th>order_freight_value</th>\n",
       "      <th>order_items_qty</th>\n",
       "      <th>order_sellers_qty</th>\n",
       "      <th>order_purchase_timestamp</th>\n",
       "      <th>order_aproved_at</th>\n",
       "      <th>...</th>\n",
       "      <th>product_photos_qty</th>\n",
       "      <th>product_id</th>\n",
       "      <th>review_id</th>\n",
       "      <th>review_score</th>\n",
       "      <th>review_comment_title</th>\n",
       "      <th>review_comment_message</th>\n",
       "      <th>review_creation_date</th>\n",
       "      <th>review_answer_timestamp</th>\n",
       "      <th>latest</th>\n",
       "      <th>range_time</th>\n",
       "    </tr>\n",
       "  </thead>\n",
       "  <tbody>\n",
       "    <tr>\n",
       "      <th>0</th>\n",
       "      <td>297dcf281305aabfee256d313076af2b</td>\n",
       "      <td>a27e24da3a7dc34713304a30896a3c4e</td>\n",
       "      <td>b95df3cef5297e79ef709ba256518f6f</td>\n",
       "      <td>delivered</td>\n",
       "      <td>349.90</td>\n",
       "      <td>13.84</td>\n",
       "      <td>1</td>\n",
       "      <td>1</td>\n",
       "      <td>2017-01-31 17:19:01</td>\n",
       "      <td>2017-02-01 02:41:21.549551</td>\n",
       "      <td>...</td>\n",
       "      <td>1</td>\n",
       "      <td>6cdd53843498f92890544667809f1595</td>\n",
       "      <td>b95df3cef5297e79ef709ba256518f6f</td>\n",
       "      <td>5</td>\n",
       "      <td>NaN</td>\n",
       "      <td>NaN</td>\n",
       "      <td>2017-02-07 00:00:00.000000</td>\n",
       "      <td>2017-02-09 02:37:37+00:00</td>\n",
       "      <td>2018-09-28 11:05:22.374345</td>\n",
       "      <td>604 days 08:24:00.824794</td>\n",
       "    </tr>\n",
       "    <tr>\n",
       "      <th>1</th>\n",
       "      <td>b7563d94162ed0aa3f8d9cada4bcc536</td>\n",
       "      <td>83c5f96adba9983897eb09729577aa6b</td>\n",
       "      <td>59af46052a799e80e2f0c665c587731d</td>\n",
       "      <td>delivered</td>\n",
       "      <td>15.00</td>\n",
       "      <td>15.10</td>\n",
       "      <td>1</td>\n",
       "      <td>1</td>\n",
       "      <td>2017-09-09 19:52:54</td>\n",
       "      <td>2017-09-10 20:03:31.535281</td>\n",
       "      <td>...</td>\n",
       "      <td>2</td>\n",
       "      <td>ae5cad88462eb7b7b61401e31c45618e</td>\n",
       "      <td>59af46052a799e80e2f0c665c587731d</td>\n",
       "      <td>5</td>\n",
       "      <td>NaN</td>\n",
       "      <td>entrega em 2 dias produto c boa qualidade otim...</td>\n",
       "      <td>2017-09-14 00:00:00.000000</td>\n",
       "      <td>2017-09-15 03:43:47+00:00</td>\n",
       "      <td>2018-09-28 11:05:22.374345</td>\n",
       "      <td>382 days 15:01:50.839064</td>\n",
       "    </tr>\n",
       "    <tr>\n",
       "      <th>2</th>\n",
       "      <td>f102cb15ec41ca30fa2902da06495f6b</td>\n",
       "      <td>de5a83eec57b3ac456dca340651c030a</td>\n",
       "      <td>a3e6136894621db402a772c6bc72a12a</td>\n",
       "      <td>delivered</td>\n",
       "      <td>238.90</td>\n",
       "      <td>18.00</td>\n",
       "      <td>1</td>\n",
       "      <td>1</td>\n",
       "      <td>2017-01-30 17:00:09</td>\n",
       "      <td>2017-01-30 17:31:25.438253</td>\n",
       "      <td>...</td>\n",
       "      <td>1</td>\n",
       "      <td>0c9ff9d8ed9b9bdd825487b3a66e05f5</td>\n",
       "      <td>a3e6136894621db402a772c6bc72a12a</td>\n",
       "      <td>5</td>\n",
       "      <td>NaN</td>\n",
       "      <td>produto veio antes do prazo informado muito ob...</td>\n",
       "      <td>2017-02-07 00:00:00.000000</td>\n",
       "      <td>2017-02-10 14:18:53+00:00</td>\n",
       "      <td>2018-09-28 11:05:22.374345</td>\n",
       "      <td>605 days 17:33:56.936092</td>\n",
       "    </tr>\n",
       "    <tr>\n",
       "      <th>3</th>\n",
       "      <td>e33c250311160298e5b457ca52720a35</td>\n",
       "      <td>785b20b3b689b670e6b7e30f04eb6fdc</td>\n",
       "      <td>b675ea5a618922f6e679e30531b8957b</td>\n",
       "      <td>delivered</td>\n",
       "      <td>29.99</td>\n",
       "      <td>18.23</td>\n",
       "      <td>1</td>\n",
       "      <td>1</td>\n",
       "      <td>2018-03-11 18:18:36</td>\n",
       "      <td>2018-03-11 18:30:37.931962</td>\n",
       "      <td>...</td>\n",
       "      <td>1</td>\n",
       "      <td>ad0a798e7941f3a5a2fb8139cb62ad78</td>\n",
       "      <td>b675ea5a618922f6e679e30531b8957b</td>\n",
       "      <td>4</td>\n",
       "      <td>NaN</td>\n",
       "      <td>NaN</td>\n",
       "      <td>2018-04-04 00:00:00.000000</td>\n",
       "      <td>2018-04-05 02:52:31+00:00</td>\n",
       "      <td>2018-09-28 11:05:22.374345</td>\n",
       "      <td>200 days 16:34:44.442383</td>\n",
       "    </tr>\n",
       "    <tr>\n",
       "      <th>4</th>\n",
       "      <td>8a8f7c9a4450f17ba3ee25a5ba821bc7</td>\n",
       "      <td>539155c817eb96914de0b011b4d28d50</td>\n",
       "      <td>195a8be6794c487fe6cfbb97b7c61902</td>\n",
       "      <td>delivered</td>\n",
       "      <td>295.99</td>\n",
       "      <td>47.65</td>\n",
       "      <td>1</td>\n",
       "      <td>1</td>\n",
       "      <td>2017-04-20 08:01:08</td>\n",
       "      <td>2017-04-25 08:05:40.405383</td>\n",
       "      <td>...</td>\n",
       "      <td>2</td>\n",
       "      <td>eaf2046d4c87809247a30050ea13df03</td>\n",
       "      <td>195a8be6794c487fe6cfbb97b7c61902</td>\n",
       "      <td>5</td>\n",
       "      <td>NaN</td>\n",
       "      <td>NaN</td>\n",
       "      <td>2017-05-05 00:00:00.000000</td>\n",
       "      <td>2017-05-08 15:20:18+00:00</td>\n",
       "      <td>2018-09-28 11:05:22.374345</td>\n",
       "      <td>521 days 02:59:41.968962</td>\n",
       "    </tr>\n",
       "  </tbody>\n",
       "</table>\n",
       "<p>5 rows × 28 columns</p>\n",
       "</div>"
      ],
      "text/plain": [
       "                        customer_id                customer_unique_id  \\\n",
       "0  297dcf281305aabfee256d313076af2b  a27e24da3a7dc34713304a30896a3c4e   \n",
       "1  b7563d94162ed0aa3f8d9cada4bcc536  83c5f96adba9983897eb09729577aa6b   \n",
       "2  f102cb15ec41ca30fa2902da06495f6b  de5a83eec57b3ac456dca340651c030a   \n",
       "3  e33c250311160298e5b457ca52720a35  785b20b3b689b670e6b7e30f04eb6fdc   \n",
       "4  8a8f7c9a4450f17ba3ee25a5ba821bc7  539155c817eb96914de0b011b4d28d50   \n",
       "\n",
       "                           order_id order_status  order_products_value  \\\n",
       "0  b95df3cef5297e79ef709ba256518f6f    delivered                349.90   \n",
       "1  59af46052a799e80e2f0c665c587731d    delivered                 15.00   \n",
       "2  a3e6136894621db402a772c6bc72a12a    delivered                238.90   \n",
       "3  b675ea5a618922f6e679e30531b8957b    delivered                 29.99   \n",
       "4  195a8be6794c487fe6cfbb97b7c61902    delivered                295.99   \n",
       "\n",
       "   order_freight_value  order_items_qty  order_sellers_qty  \\\n",
       "0                13.84                1                  1   \n",
       "1                15.10                1                  1   \n",
       "2                18.00                1                  1   \n",
       "3                18.23                1                  1   \n",
       "4                47.65                1                  1   \n",
       "\n",
       "  order_purchase_timestamp           order_aproved_at  ... product_photos_qty  \\\n",
       "0      2017-01-31 17:19:01 2017-02-01 02:41:21.549551  ...                  1   \n",
       "1      2017-09-09 19:52:54 2017-09-10 20:03:31.535281  ...                  2   \n",
       "2      2017-01-30 17:00:09 2017-01-30 17:31:25.438253  ...                  1   \n",
       "3      2018-03-11 18:18:36 2018-03-11 18:30:37.931962  ...                  1   \n",
       "4      2017-04-20 08:01:08 2017-04-25 08:05:40.405383  ...                  2   \n",
       "\n",
       "                         product_id                         review_id  \\\n",
       "0  6cdd53843498f92890544667809f1595  b95df3cef5297e79ef709ba256518f6f   \n",
       "1  ae5cad88462eb7b7b61401e31c45618e  59af46052a799e80e2f0c665c587731d   \n",
       "2  0c9ff9d8ed9b9bdd825487b3a66e05f5  a3e6136894621db402a772c6bc72a12a   \n",
       "3  ad0a798e7941f3a5a2fb8139cb62ad78  b675ea5a618922f6e679e30531b8957b   \n",
       "4  eaf2046d4c87809247a30050ea13df03  195a8be6794c487fe6cfbb97b7c61902   \n",
       "\n",
       "  review_score  review_comment_title  \\\n",
       "0            5                   NaN   \n",
       "1            5                   NaN   \n",
       "2            5                   NaN   \n",
       "3            4                   NaN   \n",
       "4            5                   NaN   \n",
       "\n",
       "                              review_comment_message  \\\n",
       "0                                                NaN   \n",
       "1  entrega em 2 dias produto c boa qualidade otim...   \n",
       "2  produto veio antes do prazo informado muito ob...   \n",
       "3                                                NaN   \n",
       "4                                                NaN   \n",
       "\n",
       "         review_creation_date    review_answer_timestamp  \\\n",
       "0  2017-02-07 00:00:00.000000  2017-02-09 02:37:37+00:00   \n",
       "1  2017-09-14 00:00:00.000000  2017-09-15 03:43:47+00:00   \n",
       "2  2017-02-07 00:00:00.000000  2017-02-10 14:18:53+00:00   \n",
       "3  2018-04-04 00:00:00.000000  2018-04-05 02:52:31+00:00   \n",
       "4  2017-05-05 00:00:00.000000  2017-05-08 15:20:18+00:00   \n",
       "\n",
       "                      latest               range_time  \n",
       "0 2018-09-28 11:05:22.374345 604 days 08:24:00.824794  \n",
       "1 2018-09-28 11:05:22.374345 382 days 15:01:50.839064  \n",
       "2 2018-09-28 11:05:22.374345 605 days 17:33:56.936092  \n",
       "3 2018-09-28 11:05:22.374345 200 days 16:34:44.442383  \n",
       "4 2018-09-28 11:05:22.374345 521 days 02:59:41.968962  \n",
       "\n",
       "[5 rows x 28 columns]"
      ]
     },
     "execution_count": 57,
     "metadata": {},
     "output_type": "execute_result"
    }
   ],
   "source": [
    "# calculate the days from most recent order to every order from customer.\n",
    "order_cust = order_cust.dropna(subset=['order_aproved_at'])\n",
    "order_cust['order_aproved_at'] = pd.to_datetime(order_cust['order_aproved_at'])\n",
    "order_cust['latest'] = max(order_cust.order_aproved_at)\n",
    "order_cust[\n",
    "    'range_time'] = order_cust['latest'] - order_cust['order_aproved_at']\n",
    "recent = order_cust.groupby('customer_unique_id').agg({\n",
    "    'range_time': 'min'\n",
    "}).astype('timedelta64[D]')\n",
    "order_cust.head()"
   ]
  },
  {
   "cell_type": "code",
   "execution_count": 59,
   "metadata": {},
   "outputs": [
    {
     "data": {
      "text/html": [
       "<div>\n",
       "<style scoped>\n",
       "    .dataframe tbody tr th:only-of-type {\n",
       "        vertical-align: middle;\n",
       "    }\n",
       "\n",
       "    .dataframe tbody tr th {\n",
       "        vertical-align: top;\n",
       "    }\n",
       "\n",
       "    .dataframe thead th {\n",
       "        text-align: right;\n",
       "    }\n",
       "</style>\n",
       "<table border=\"1\" class=\"dataframe\">\n",
       "  <thead>\n",
       "    <tr style=\"text-align: right;\">\n",
       "      <th></th>\n",
       "      <th>order_products_value</th>\n",
       "    </tr>\n",
       "    <tr>\n",
       "      <th>customer_unique_id</th>\n",
       "      <th></th>\n",
       "    </tr>\n",
       "  </thead>\n",
       "  <tbody>\n",
       "    <tr>\n",
       "      <th>000329c0b406d30f7e92fbd6a88a009e</th>\n",
       "      <td>18.90</td>\n",
       "    </tr>\n",
       "    <tr>\n",
       "      <th>0003418b36ed466545169cac383b59b4</th>\n",
       "      <td>58.90</td>\n",
       "    </tr>\n",
       "    <tr>\n",
       "      <th>000446ff827ee6397d0f00816d6a1fb2</th>\n",
       "      <td>105.00</td>\n",
       "    </tr>\n",
       "    <tr>\n",
       "      <th>0004983adf3647e6c0bf708af02e94e4</th>\n",
       "      <td>21.99</td>\n",
       "    </tr>\n",
       "    <tr>\n",
       "      <th>0004e8eb194ba10ce76319ad18b09a5c</th>\n",
       "      <td>70.00</td>\n",
       "    </tr>\n",
       "  </tbody>\n",
       "</table>\n",
       "</div>"
      ],
      "text/plain": [
       "                                  order_products_value\n",
       "customer_unique_id                                    \n",
       "000329c0b406d30f7e92fbd6a88a009e                 18.90\n",
       "0003418b36ed466545169cac383b59b4                 58.90\n",
       "000446ff827ee6397d0f00816d6a1fb2                105.00\n",
       "0004983adf3647e6c0bf708af02e94e4                 21.99\n",
       "0004e8eb194ba10ce76319ad18b09a5c                 70.00"
      ]
     },
     "execution_count": 59,
     "metadata": {},
     "output_type": "execute_result"
    }
   ],
   "source": [
    "# getting frequency of orders and \n",
    "frequent = order_cust.groupby('customer_unique_id').agg(\n",
    "    {'order_items_qty': 'sum'})\n",
    "monetary = order_cust.groupby('customer_unique_id').agg(\n",
    "    {'order_products_value': 'sum'})\n",
    "frequent.head()\n",
    "monetary.head()"
   ]
  },
  {
   "cell_type": "code",
   "execution_count": 65,
   "metadata": {},
   "outputs": [],
   "source": [
    "# finding the earlist purchase time by each customer.\n",
    "tenure = order_cust.groupby('customer_unique_id').agg({\n",
    "    'range_time': 'max'\n",
    "}).astype('timedelta64[D]')"
   ]
  },
  {
   "cell_type": "code",
   "execution_count": 66,
   "metadata": {},
   "outputs": [],
   "source": [
    "# creating a dataframe of recency, frequency, monetary value and tenure of each customer.\n",
    "rfmt = pd.concat([recent, frequent, monetary, tenure], axis=1)\n",
    "rfmt.columns = ['recency', 'frequency', 'monetary', 'tenure']"
   ]
  },
  {
   "cell_type": "code",
   "execution_count": 67,
   "metadata": {},
   "outputs": [
    {
     "data": {
      "text/html": [
       "<div>\n",
       "<style scoped>\n",
       "    .dataframe tbody tr th:only-of-type {\n",
       "        vertical-align: middle;\n",
       "    }\n",
       "\n",
       "    .dataframe tbody tr th {\n",
       "        vertical-align: top;\n",
       "    }\n",
       "\n",
       "    .dataframe thead th {\n",
       "        text-align: right;\n",
       "    }\n",
       "</style>\n",
       "<table border=\"1\" class=\"dataframe\">\n",
       "  <thead>\n",
       "    <tr style=\"text-align: right;\">\n",
       "      <th></th>\n",
       "      <th>recency</th>\n",
       "      <th>frequency</th>\n",
       "      <th>monetary</th>\n",
       "      <th>tenure</th>\n",
       "    </tr>\n",
       "  </thead>\n",
       "  <tbody>\n",
       "    <tr>\n",
       "      <th>count</th>\n",
       "      <td>92499.000000</td>\n",
       "      <td>92499.000000</td>\n",
       "      <td>92499.000000</td>\n",
       "      <td>92499.00000</td>\n",
       "    </tr>\n",
       "    <tr>\n",
       "      <th>mean</th>\n",
       "      <td>307.114390</td>\n",
       "      <td>1.189094</td>\n",
       "      <td>139.651706</td>\n",
       "      <td>310.23637</td>\n",
       "    </tr>\n",
       "    <tr>\n",
       "      <th>std</th>\n",
       "      <td>157.680732</td>\n",
       "      <td>0.668378</td>\n",
       "      <td>212.647446</td>\n",
       "      <td>157.82497</td>\n",
       "    </tr>\n",
       "    <tr>\n",
       "      <th>min</th>\n",
       "      <td>0.000000</td>\n",
       "      <td>1.000000</td>\n",
       "      <td>2.000000</td>\n",
       "      <td>0.00000</td>\n",
       "    </tr>\n",
       "    <tr>\n",
       "      <th>25%</th>\n",
       "      <td>188.000000</td>\n",
       "      <td>1.000000</td>\n",
       "      <td>49.000000</td>\n",
       "      <td>191.00000</td>\n",
       "    </tr>\n",
       "    <tr>\n",
       "      <th>50%</th>\n",
       "      <td>305.000000</td>\n",
       "      <td>1.000000</td>\n",
       "      <td>89.900000</td>\n",
       "      <td>307.00000</td>\n",
       "    </tr>\n",
       "    <tr>\n",
       "      <th>75%</th>\n",
       "      <td>428.000000</td>\n",
       "      <td>1.000000</td>\n",
       "      <td>155.420000</td>\n",
       "      <td>432.00000</td>\n",
       "    </tr>\n",
       "    <tr>\n",
       "      <th>max</th>\n",
       "      <td>742.000000</td>\n",
       "      <td>25.000000</td>\n",
       "      <td>14776.000000</td>\n",
       "      <td>742.00000</td>\n",
       "    </tr>\n",
       "  </tbody>\n",
       "</table>\n",
       "</div>"
      ],
      "text/plain": [
       "            recency     frequency      monetary       tenure\n",
       "count  92499.000000  92499.000000  92499.000000  92499.00000\n",
       "mean     307.114390      1.189094    139.651706    310.23637\n",
       "std      157.680732      0.668378    212.647446    157.82497\n",
       "min        0.000000      1.000000      2.000000      0.00000\n",
       "25%      188.000000      1.000000     49.000000    191.00000\n",
       "50%      305.000000      1.000000     89.900000    307.00000\n",
       "75%      428.000000      1.000000    155.420000    432.00000\n",
       "max      742.000000     25.000000  14776.000000    742.00000"
      ]
     },
     "execution_count": 67,
     "metadata": {},
     "output_type": "execute_result"
    }
   ],
   "source": [
    "rfmt.describe()"
   ]
  },
  {
   "cell_type": "code",
   "execution_count": 69,
   "metadata": {},
   "outputs": [],
   "source": [
    "# assigning rank to each customer. 1 will be lowest and 5 will be highest.\n",
    "label1 = [5, 4, 3, 2, 1]\n",
    "label2 = [1, 2, 3, 4, 5]\n",
    "rfmt['R'] = pd.qcut(rfmt['recency'],\n",
    "                    q=[0, 0.2, 0.4, 0.6, 0.8, 1],\n",
    "                    labels=label1)\n",
    "rfmt['F'] = pd.cut(rfmt['frequency'], bins=[0, 1, 2, 3, 5, 900], labels=label2)\n",
    "rfmt['M'] = pd.qcut(rfmt['monetary'],\n",
    "                    q=[0, 0.2, 0.4, 0.6, 0.8, 1],\n",
    "                    labels=label2)\n",
    "rfmt['T'] = pd.qcut(rfmt['tenure'],\n",
    "                    q=[0, 0.2, 0.4, 0.6, 0.8, 1],\n",
    "                    labels=label2)"
   ]
  },
  {
   "cell_type": "code",
   "execution_count": 70,
   "metadata": {},
   "outputs": [],
   "source": [
    "rfmt = rfmt.reset_index()"
   ]
  },
  {
   "cell_type": "code",
   "execution_count": 72,
   "metadata": {},
   "outputs": [
    {
     "name": "stderr",
     "output_type": "stream",
     "text": [
      "/opt/anaconda3/lib/python3.7/site-packages/ipykernel_launcher.py:3: SettingWithCopyWarning: \n",
      "A value is trying to be set on a copy of a slice from a DataFrame.\n",
      "Try using .loc[row_indexer,col_indexer] = value instead\n",
      "\n",
      "See the caveats in the documentation: https://pandas.pydata.org/pandas-docs/stable/user_guide/indexing.html#returning-a-view-versus-a-copy\n",
      "  This is separate from the ipykernel package so we can avoid doing imports until\n",
      "/opt/anaconda3/lib/python3.7/site-packages/ipykernel_launcher.py:8: SettingWithCopyWarning: \n",
      "A value is trying to be set on a copy of a slice from a DataFrame.\n",
      "Try using .loc[row_indexer,col_indexer] = value instead\n",
      "\n",
      "See the caveats in the documentation: https://pandas.pydata.org/pandas-docs/stable/user_guide/indexing.html#returning-a-view-versus-a-copy\n",
      "  \n",
      "/opt/anaconda3/lib/python3.7/site-packages/ipykernel_launcher.py:13: SettingWithCopyWarning: \n",
      "A value is trying to be set on a copy of a slice from a DataFrame.\n",
      "Try using .loc[row_indexer,col_indexer] = value instead\n",
      "\n",
      "See the caveats in the documentation: https://pandas.pydata.org/pandas-docs/stable/user_guide/indexing.html#returning-a-view-versus-a-copy\n",
      "  del sys.path[0]\n",
      "/opt/anaconda3/lib/python3.7/site-packages/ipykernel_launcher.py:23: SettingWithCopyWarning: \n",
      "A value is trying to be set on a copy of a slice from a DataFrame.\n",
      "Try using .loc[row_indexer,col_indexer] = value instead\n",
      "\n",
      "See the caveats in the documentation: https://pandas.pydata.org/pandas-docs/stable/user_guide/indexing.html#returning-a-view-versus-a-copy\n",
      "/opt/anaconda3/lib/python3.7/site-packages/ipykernel_launcher.py:28: SettingWithCopyWarning: \n",
      "A value is trying to be set on a copy of a slice from a DataFrame.\n",
      "Try using .loc[row_indexer,col_indexer] = value instead\n",
      "\n",
      "See the caveats in the documentation: https://pandas.pydata.org/pandas-docs/stable/user_guide/indexing.html#returning-a-view-versus-a-copy\n",
      "/opt/anaconda3/lib/python3.7/site-packages/ipykernel_launcher.py:33: SettingWithCopyWarning: \n",
      "A value is trying to be set on a copy of a slice from a DataFrame.\n",
      "Try using .loc[row_indexer,col_indexer] = value instead\n",
      "\n",
      "See the caveats in the documentation: https://pandas.pydata.org/pandas-docs/stable/user_guide/indexing.html#returning-a-view-versus-a-copy\n",
      "/opt/anaconda3/lib/python3.7/site-packages/ipykernel_launcher.py:38: SettingWithCopyWarning: \n",
      "A value is trying to be set on a copy of a slice from a DataFrame.\n",
      "Try using .loc[row_indexer,col_indexer] = value instead\n",
      "\n",
      "See the caveats in the documentation: https://pandas.pydata.org/pandas-docs/stable/user_guide/indexing.html#returning-a-view-versus-a-copy\n",
      "/opt/anaconda3/lib/python3.7/site-packages/ipykernel_launcher.py:43: SettingWithCopyWarning: \n",
      "A value is trying to be set on a copy of a slice from a DataFrame.\n",
      "Try using .loc[row_indexer,col_indexer] = value instead\n",
      "\n",
      "See the caveats in the documentation: https://pandas.pydata.org/pandas-docs/stable/user_guide/indexing.html#returning-a-view-versus-a-copy\n"
     ]
    }
   ],
   "source": [
    "# if recency is lowest, frequency is highest and monetary value is highest they are the best customers.\n",
    "best = rfmt[rfmt.R.isin([4, 5]) & rfmt.F.isin([4, 5]) & rfmt.M.isin([4, 5])]\n",
    "best['segment'] = 'BEST'\n",
    "\n",
    "# loyal spenders.\n",
    "loyal_spender = rfmt[rfmt['R'].isin([4, 5]) & rfmt['F'].isin([2, 3])\n",
    "                     & rfmt['M'].isin([2, 3]) & rfmt['T'].isin([3, 4, 5])]\n",
    "loyal_spender['segment'] = 'LOYAL SPENDER'\n",
    "\n",
    "# potential loyal customers.\n",
    "potential_loyal = rfmt[rfmt['R'].isin([4, 5]) & rfmt['F'].isin([2, 3])\n",
    "                       & rfmt['M'].isin([2, 3]) & rfmt['T'].isin([1, 2])]\n",
    "potential_loyal['segment'] = 'POTENTIAL LOYAL'\n",
    "\n",
    "#loyal customer.\n",
    "loyal_cust = rfmt[rfmt['R'].isin([4, 5]) & rfmt['F'].isin([1])\n",
    "                  & rfmt['M'].isin([1]) & rfmt['T'].isin([3, 5])]\n",
    "loyal_cust['segment'] = 'LOYAL CUSTOMER'\n",
    "\n",
    "# new customer.\n",
    "new_cust = rfmt[rfmt['R'].isin([4, 5]) & rfmt['F'].isin([1])\n",
    "                & rfmt['M'].isin([1]) & rfmt['T'].isin([1, 2])]\n",
    "new_cust['segment'] = 'NEW CUSTOMER'\n",
    "\n",
    "# promising customer.\n",
    "promising = rfmt[rfmt['R'].isin([2, 3]) & rfmt['F'].isin([3, 5])\n",
    "                 & rfmt['M'].isin([3, 5])]\n",
    "promising['segment'] = 'PROMISING'\n",
    "\n",
    "# can not lose customers.\n",
    "cant_lose = rfmt[rfmt['R'].isin([1]) & rfmt['F'].isin([4, 5])\n",
    "                 & rfmt['M'].isin([4, 5])]\n",
    "cant_lose['segment'] = 'CAN NOT LOSE'\n",
    "\n",
    "# about to sleep customers.\n",
    "about_to_sleep = rfmt[rfmt['R'].isin([1]) & rfmt['F'].isin([4, 5])\n",
    "                      & rfmt['M'].isin([4, 5])]\n",
    "about_to_sleep['segment'] = 'ABOUT TO SLEEP'\n",
    "\n",
    "# Hibernating Customers.\n",
    "hibernating = rfmt[rfmt['R'].isin([1]) & rfmt['F'].isin([2, 3])\n",
    "                   & rfmt['M'].isin([2, 3])]\n",
    "hibernating['segment'] = 'HIBERNATING'\n",
    "\n",
    "lost = rfmt[rfmt['R'].isin([1]) & rfmt['F'].isin([1]) & rfmt['M'].isin([1])\n",
    "            & rfmt['T'].isin([1])]\n",
    "lost['segment'] = 'HIBERNATING'"
   ]
  },
  {
   "cell_type": "code",
   "execution_count": 74,
   "metadata": {},
   "outputs": [],
   "source": [
    "# adding these categories to our customer order table.\n",
    "rfmt_segment = pd.concat([\n",
    "    best, loyal_spender, potential_loyal, new_cust, loyal_cust, promising,\n",
    "    cant_lose, about_to_sleep, hibernating, lost\n",
    "])"
   ]
  },
  {
   "cell_type": "code",
   "execution_count": 75,
   "metadata": {},
   "outputs": [
    {
     "data": {
      "text/html": [
       "<div>\n",
       "<style scoped>\n",
       "    .dataframe tbody tr th:only-of-type {\n",
       "        vertical-align: middle;\n",
       "    }\n",
       "\n",
       "    .dataframe tbody tr th {\n",
       "        vertical-align: top;\n",
       "    }\n",
       "\n",
       "    .dataframe thead th {\n",
       "        text-align: right;\n",
       "    }\n",
       "</style>\n",
       "<table border=\"1\" class=\"dataframe\">\n",
       "  <thead>\n",
       "    <tr style=\"text-align: right;\">\n",
       "      <th></th>\n",
       "      <th>customer_unique_id</th>\n",
       "      <th>recency</th>\n",
       "      <th>frequency</th>\n",
       "      <th>monetary</th>\n",
       "      <th>tenure</th>\n",
       "      <th>R</th>\n",
       "      <th>F</th>\n",
       "      <th>M</th>\n",
       "      <th>T</th>\n",
       "      <th>segment</th>\n",
       "    </tr>\n",
       "  </thead>\n",
       "  <tbody>\n",
       "    <tr>\n",
       "      <th>84228</th>\n",
       "      <td>e8d35eb9f949d6bf2c28b44e6426553b</td>\n",
       "      <td>210.0</td>\n",
       "      <td>1</td>\n",
       "      <td>19.99</td>\n",
       "      <td>210.0</td>\n",
       "      <td>4</td>\n",
       "      <td>1</td>\n",
       "      <td>1</td>\n",
       "      <td>2</td>\n",
       "      <td>NEW CUSTOMER</td>\n",
       "    </tr>\n",
       "    <tr>\n",
       "      <th>43759</th>\n",
       "      <td>78ecda593f1b0325327910e1ae0721a8</td>\n",
       "      <td>198.0</td>\n",
       "      <td>1</td>\n",
       "      <td>39.90</td>\n",
       "      <td>198.0</td>\n",
       "      <td>4</td>\n",
       "      <td>1</td>\n",
       "      <td>1</td>\n",
       "      <td>2</td>\n",
       "      <td>NEW CUSTOMER</td>\n",
       "    </tr>\n",
       "    <tr>\n",
       "      <th>5899</th>\n",
       "      <td>10501fc846aa261a22596c9ced19febe</td>\n",
       "      <td>84.0</td>\n",
       "      <td>1</td>\n",
       "      <td>37.90</td>\n",
       "      <td>84.0</td>\n",
       "      <td>5</td>\n",
       "      <td>1</td>\n",
       "      <td>1</td>\n",
       "      <td>1</td>\n",
       "      <td>NEW CUSTOMER</td>\n",
       "    </tr>\n",
       "    <tr>\n",
       "      <th>66325</th>\n",
       "      <td>b7794b7a79a93872e3a2bfe7175da74c</td>\n",
       "      <td>151.0</td>\n",
       "      <td>2</td>\n",
       "      <td>107.80</td>\n",
       "      <td>151.0</td>\n",
       "      <td>5</td>\n",
       "      <td>2</td>\n",
       "      <td>3</td>\n",
       "      <td>1</td>\n",
       "      <td>POTENTIAL LOYAL</td>\n",
       "    </tr>\n",
       "    <tr>\n",
       "      <th>64742</th>\n",
       "      <td>b32d62060cfbd176e22d63f23768ea23</td>\n",
       "      <td>130.0</td>\n",
       "      <td>2</td>\n",
       "      <td>78.00</td>\n",
       "      <td>130.0</td>\n",
       "      <td>5</td>\n",
       "      <td>2</td>\n",
       "      <td>3</td>\n",
       "      <td>1</td>\n",
       "      <td>POTENTIAL LOYAL</td>\n",
       "    </tr>\n",
       "    <tr>\n",
       "      <th>46227</th>\n",
       "      <td>7f93e58deb6f6a4d2d938e4c863713d3</td>\n",
       "      <td>115.0</td>\n",
       "      <td>1</td>\n",
       "      <td>18.90</td>\n",
       "      <td>115.0</td>\n",
       "      <td>5</td>\n",
       "      <td>1</td>\n",
       "      <td>1</td>\n",
       "      <td>1</td>\n",
       "      <td>NEW CUSTOMER</td>\n",
       "    </tr>\n",
       "    <tr>\n",
       "      <th>25662</th>\n",
       "      <td>46d7aee47c1c50a8caff465721eabba8</td>\n",
       "      <td>28.0</td>\n",
       "      <td>1</td>\n",
       "      <td>22.99</td>\n",
       "      <td>28.0</td>\n",
       "      <td>5</td>\n",
       "      <td>1</td>\n",
       "      <td>1</td>\n",
       "      <td>1</td>\n",
       "      <td>NEW CUSTOMER</td>\n",
       "    </tr>\n",
       "    <tr>\n",
       "      <th>76545</th>\n",
       "      <td>d3e57a516b9d9130b26112a90d07617f</td>\n",
       "      <td>217.0</td>\n",
       "      <td>1</td>\n",
       "      <td>13.69</td>\n",
       "      <td>217.0</td>\n",
       "      <td>4</td>\n",
       "      <td>1</td>\n",
       "      <td>1</td>\n",
       "      <td>2</td>\n",
       "      <td>NEW CUSTOMER</td>\n",
       "    </tr>\n",
       "    <tr>\n",
       "      <th>67400</th>\n",
       "      <td>ba6aead49a8406cca43e43d386c74553</td>\n",
       "      <td>68.0</td>\n",
       "      <td>1</td>\n",
       "      <td>19.90</td>\n",
       "      <td>68.0</td>\n",
       "      <td>5</td>\n",
       "      <td>1</td>\n",
       "      <td>1</td>\n",
       "      <td>1</td>\n",
       "      <td>NEW CUSTOMER</td>\n",
       "    </tr>\n",
       "    <tr>\n",
       "      <th>28331</th>\n",
       "      <td>4e404d7e91e98cd0acd36b12489ce7ed</td>\n",
       "      <td>168.0</td>\n",
       "      <td>1</td>\n",
       "      <td>24.95</td>\n",
       "      <td>168.0</td>\n",
       "      <td>4</td>\n",
       "      <td>1</td>\n",
       "      <td>1</td>\n",
       "      <td>2</td>\n",
       "      <td>NEW CUSTOMER</td>\n",
       "    </tr>\n",
       "  </tbody>\n",
       "</table>\n",
       "</div>"
      ],
      "text/plain": [
       "                     customer_unique_id  recency  frequency  monetary  tenure  \\\n",
       "84228  e8d35eb9f949d6bf2c28b44e6426553b    210.0          1     19.99   210.0   \n",
       "43759  78ecda593f1b0325327910e1ae0721a8    198.0          1     39.90   198.0   \n",
       "5899   10501fc846aa261a22596c9ced19febe     84.0          1     37.90    84.0   \n",
       "66325  b7794b7a79a93872e3a2bfe7175da74c    151.0          2    107.80   151.0   \n",
       "64742  b32d62060cfbd176e22d63f23768ea23    130.0          2     78.00   130.0   \n",
       "46227  7f93e58deb6f6a4d2d938e4c863713d3    115.0          1     18.90   115.0   \n",
       "25662  46d7aee47c1c50a8caff465721eabba8     28.0          1     22.99    28.0   \n",
       "76545  d3e57a516b9d9130b26112a90d07617f    217.0          1     13.69   217.0   \n",
       "67400  ba6aead49a8406cca43e43d386c74553     68.0          1     19.90    68.0   \n",
       "28331  4e404d7e91e98cd0acd36b12489ce7ed    168.0          1     24.95   168.0   \n",
       "\n",
       "       R  F  M  T          segment  \n",
       "84228  4  1  1  2     NEW CUSTOMER  \n",
       "43759  4  1  1  2     NEW CUSTOMER  \n",
       "5899   5  1  1  1     NEW CUSTOMER  \n",
       "66325  5  2  3  1  POTENTIAL LOYAL  \n",
       "64742  5  2  3  1  POTENTIAL LOYAL  \n",
       "46227  5  1  1  1     NEW CUSTOMER  \n",
       "25662  5  1  1  1     NEW CUSTOMER  \n",
       "76545  4  1  1  2     NEW CUSTOMER  \n",
       "67400  5  1  1  1     NEW CUSTOMER  \n",
       "28331  4  1  1  2     NEW CUSTOMER  "
      ]
     },
     "execution_count": 75,
     "metadata": {},
     "output_type": "execute_result"
    }
   ],
   "source": [
    "rfmt_segment.sample(10)"
   ]
  },
  {
   "cell_type": "markdown",
   "metadata": {},
   "source": [
    "We have thus categorized customers. **We can give points for purchased products to the best customers. Furthermore, we can promote things that interest new customers from their previous purchase.**"
   ]
  },
  {
   "cell_type": "markdown",
   "metadata": {},
   "source": [
    "### Popularity Analysis.\n",
    "\n",
    "Looking at the popularity of products."
   ]
  },
  {
   "cell_type": "code",
   "execution_count": 76,
   "metadata": {},
   "outputs": [
    {
     "data": {
      "text/html": [
       "<div>\n",
       "<style scoped>\n",
       "    .dataframe tbody tr th:only-of-type {\n",
       "        vertical-align: middle;\n",
       "    }\n",
       "\n",
       "    .dataframe tbody tr th {\n",
       "        vertical-align: top;\n",
       "    }\n",
       "\n",
       "    .dataframe thead th {\n",
       "        text-align: right;\n",
       "    }\n",
       "</style>\n",
       "<table border=\"1\" class=\"dataframe\">\n",
       "  <thead>\n",
       "    <tr style=\"text-align: right;\">\n",
       "      <th></th>\n",
       "      <th>product_category_name</th>\n",
       "      <th>product_category_name_english</th>\n",
       "    </tr>\n",
       "  </thead>\n",
       "  <tbody>\n",
       "    <tr>\n",
       "      <th>0</th>\n",
       "      <td>beleza_saude</td>\n",
       "      <td>health_beauty</td>\n",
       "    </tr>\n",
       "    <tr>\n",
       "      <th>1</th>\n",
       "      <td>informatica_acessorios</td>\n",
       "      <td>computers_accessories</td>\n",
       "    </tr>\n",
       "    <tr>\n",
       "      <th>2</th>\n",
       "      <td>automotivo</td>\n",
       "      <td>auto</td>\n",
       "    </tr>\n",
       "    <tr>\n",
       "      <th>3</th>\n",
       "      <td>cama_mesa_banho</td>\n",
       "      <td>bed_bath_table</td>\n",
       "    </tr>\n",
       "    <tr>\n",
       "      <th>4</th>\n",
       "      <td>moveis_decoracao</td>\n",
       "      <td>furniture_decor</td>\n",
       "    </tr>\n",
       "  </tbody>\n",
       "</table>\n",
       "</div>"
      ],
      "text/plain": [
       "    product_category_name product_category_name_english\n",
       "0            beleza_saude                 health_beauty\n",
       "1  informatica_acessorios         computers_accessories\n",
       "2              automotivo                          auto\n",
       "3         cama_mesa_banho                bed_bath_table\n",
       "4        moveis_decoracao               furniture_decor"
      ]
     },
     "execution_count": 76,
     "metadata": {},
     "output_type": "execute_result"
    }
   ],
   "source": [
    "trans.head()"
   ]
  },
  {
   "cell_type": "code",
   "execution_count": 77,
   "metadata": {},
   "outputs": [],
   "source": [
    "# merging order data with product data.\n",
    "order_trans = pd.merge(trans,\n",
    "                       order,\n",
    "                       how='right',\n",
    "                       on=['product_category_name', 'product_category_name'])\n",
    "order_en = order_trans.drop(['product_category_name'], axis=1)"
   ]
  },
  {
   "cell_type": "code",
   "execution_count": 78,
   "metadata": {},
   "outputs": [
    {
     "data": {
      "text/html": [
       "<div>\n",
       "<style scoped>\n",
       "    .dataframe tbody tr th:only-of-type {\n",
       "        vertical-align: middle;\n",
       "    }\n",
       "\n",
       "    .dataframe tbody tr th {\n",
       "        vertical-align: top;\n",
       "    }\n",
       "\n",
       "    .dataframe thead th {\n",
       "        text-align: right;\n",
       "    }\n",
       "</style>\n",
       "<table border=\"1\" class=\"dataframe\">\n",
       "  <thead>\n",
       "    <tr style=\"text-align: right;\">\n",
       "      <th></th>\n",
       "      <th>product_category_name_english</th>\n",
       "      <th>order_id</th>\n",
       "      <th>order_status</th>\n",
       "      <th>order_products_value</th>\n",
       "      <th>order_freight_value</th>\n",
       "      <th>order_items_qty</th>\n",
       "      <th>order_sellers_qty</th>\n",
       "      <th>order_purchase_timestamp</th>\n",
       "      <th>order_aproved_at</th>\n",
       "      <th>order_estimated_delivery_date</th>\n",
       "      <th>...</th>\n",
       "      <th>product_name_lenght</th>\n",
       "      <th>product_description_lenght</th>\n",
       "      <th>product_photos_qty</th>\n",
       "      <th>product_id</th>\n",
       "      <th>review_id</th>\n",
       "      <th>review_score</th>\n",
       "      <th>review_comment_title</th>\n",
       "      <th>review_comment_message</th>\n",
       "      <th>review_creation_date</th>\n",
       "      <th>review_answer_timestamp</th>\n",
       "    </tr>\n",
       "  </thead>\n",
       "  <tbody>\n",
       "    <tr>\n",
       "      <th>0</th>\n",
       "      <td>health_beauty</td>\n",
       "      <td>b95df3cef5297e79ef709ba256518f6f</td>\n",
       "      <td>delivered</td>\n",
       "      <td>349.90</td>\n",
       "      <td>13.84</td>\n",
       "      <td>1</td>\n",
       "      <td>1</td>\n",
       "      <td>2017-01-31 17:19:01</td>\n",
       "      <td>2017-02-01 02:41:21.549551</td>\n",
       "      <td>2017-03-15 00:00:00.000000</td>\n",
       "      <td>...</td>\n",
       "      <td>51</td>\n",
       "      <td>625</td>\n",
       "      <td>1</td>\n",
       "      <td>6cdd53843498f92890544667809f1595</td>\n",
       "      <td>b95df3cef5297e79ef709ba256518f6f</td>\n",
       "      <td>5</td>\n",
       "      <td>NaN</td>\n",
       "      <td>NaN</td>\n",
       "      <td>2017-02-07 00:00:00.000000</td>\n",
       "      <td>2017-02-09 02:37:37+00:00</td>\n",
       "    </tr>\n",
       "    <tr>\n",
       "      <th>1</th>\n",
       "      <td>computers_accessories</td>\n",
       "      <td>59af46052a799e80e2f0c665c587731d</td>\n",
       "      <td>delivered</td>\n",
       "      <td>15.00</td>\n",
       "      <td>15.10</td>\n",
       "      <td>1</td>\n",
       "      <td>1</td>\n",
       "      <td>2017-09-09 19:52:54</td>\n",
       "      <td>2017-09-10 20:03:31.535281</td>\n",
       "      <td>2017-10-02 00:00:00.000000</td>\n",
       "      <td>...</td>\n",
       "      <td>44</td>\n",
       "      <td>1428</td>\n",
       "      <td>2</td>\n",
       "      <td>ae5cad88462eb7b7b61401e31c45618e</td>\n",
       "      <td>59af46052a799e80e2f0c665c587731d</td>\n",
       "      <td>5</td>\n",
       "      <td>NaN</td>\n",
       "      <td>entrega em 2 dias produto c boa qualidade otim...</td>\n",
       "      <td>2017-09-14 00:00:00.000000</td>\n",
       "      <td>2017-09-15 03:43:47+00:00</td>\n",
       "    </tr>\n",
       "    <tr>\n",
       "      <th>2</th>\n",
       "      <td>auto</td>\n",
       "      <td>a3e6136894621db402a772c6bc72a12a</td>\n",
       "      <td>delivered</td>\n",
       "      <td>238.90</td>\n",
       "      <td>18.00</td>\n",
       "      <td>1</td>\n",
       "      <td>1</td>\n",
       "      <td>2017-01-30 17:00:09</td>\n",
       "      <td>2017-01-30 17:31:25.438253</td>\n",
       "      <td>2017-03-07 00:00:00.000000</td>\n",
       "      <td>...</td>\n",
       "      <td>55</td>\n",
       "      <td>637</td>\n",
       "      <td>1</td>\n",
       "      <td>0c9ff9d8ed9b9bdd825487b3a66e05f5</td>\n",
       "      <td>a3e6136894621db402a772c6bc72a12a</td>\n",
       "      <td>5</td>\n",
       "      <td>NaN</td>\n",
       "      <td>produto veio antes do prazo informado muito ob...</td>\n",
       "      <td>2017-02-07 00:00:00.000000</td>\n",
       "      <td>2017-02-10 14:18:53+00:00</td>\n",
       "    </tr>\n",
       "    <tr>\n",
       "      <th>3</th>\n",
       "      <td>bed_bath_table</td>\n",
       "      <td>b675ea5a618922f6e679e30531b8957b</td>\n",
       "      <td>delivered</td>\n",
       "      <td>29.99</td>\n",
       "      <td>18.23</td>\n",
       "      <td>1</td>\n",
       "      <td>1</td>\n",
       "      <td>2018-03-11 18:18:36</td>\n",
       "      <td>2018-03-11 18:30:37.931962</td>\n",
       "      <td>2018-04-03 00:00:00.000000</td>\n",
       "      <td>...</td>\n",
       "      <td>55</td>\n",
       "      <td>617</td>\n",
       "      <td>1</td>\n",
       "      <td>ad0a798e7941f3a5a2fb8139cb62ad78</td>\n",
       "      <td>b675ea5a618922f6e679e30531b8957b</td>\n",
       "      <td>4</td>\n",
       "      <td>NaN</td>\n",
       "      <td>NaN</td>\n",
       "      <td>2018-04-04 00:00:00.000000</td>\n",
       "      <td>2018-04-05 02:52:31+00:00</td>\n",
       "    </tr>\n",
       "    <tr>\n",
       "      <th>4</th>\n",
       "      <td>furniture_decor</td>\n",
       "      <td>195a8be6794c487fe6cfbb97b7c61902</td>\n",
       "      <td>delivered</td>\n",
       "      <td>295.99</td>\n",
       "      <td>47.65</td>\n",
       "      <td>1</td>\n",
       "      <td>1</td>\n",
       "      <td>2017-04-20 08:01:08</td>\n",
       "      <td>2017-04-25 08:05:40.405383</td>\n",
       "      <td>2017-05-24 00:00:00.000000</td>\n",
       "      <td>...</td>\n",
       "      <td>49</td>\n",
       "      <td>558</td>\n",
       "      <td>2</td>\n",
       "      <td>eaf2046d4c87809247a30050ea13df03</td>\n",
       "      <td>195a8be6794c487fe6cfbb97b7c61902</td>\n",
       "      <td>5</td>\n",
       "      <td>NaN</td>\n",
       "      <td>NaN</td>\n",
       "      <td>2017-05-05 00:00:00.000000</td>\n",
       "      <td>2017-05-08 15:20:18+00:00</td>\n",
       "    </tr>\n",
       "  </tbody>\n",
       "</table>\n",
       "<p>5 rows × 25 columns</p>\n",
       "</div>"
      ],
      "text/plain": [
       "  product_category_name_english                          order_id  \\\n",
       "0                 health_beauty  b95df3cef5297e79ef709ba256518f6f   \n",
       "1         computers_accessories  59af46052a799e80e2f0c665c587731d   \n",
       "2                          auto  a3e6136894621db402a772c6bc72a12a   \n",
       "3                bed_bath_table  b675ea5a618922f6e679e30531b8957b   \n",
       "4               furniture_decor  195a8be6794c487fe6cfbb97b7c61902   \n",
       "\n",
       "  order_status  order_products_value  order_freight_value  order_items_qty  \\\n",
       "0    delivered                349.90                13.84                1   \n",
       "1    delivered                 15.00                15.10                1   \n",
       "2    delivered                238.90                18.00                1   \n",
       "3    delivered                 29.99                18.23                1   \n",
       "4    delivered                295.99                47.65                1   \n",
       "\n",
       "   order_sellers_qty order_purchase_timestamp            order_aproved_at  \\\n",
       "0                  1      2017-01-31 17:19:01  2017-02-01 02:41:21.549551   \n",
       "1                  1      2017-09-09 19:52:54  2017-09-10 20:03:31.535281   \n",
       "2                  1      2017-01-30 17:00:09  2017-01-30 17:31:25.438253   \n",
       "3                  1      2018-03-11 18:18:36  2018-03-11 18:30:37.931962   \n",
       "4                  1      2017-04-20 08:01:08  2017-04-25 08:05:40.405383   \n",
       "\n",
       "  order_estimated_delivery_date  ... product_name_lenght  \\\n",
       "0    2017-03-15 00:00:00.000000  ...                  51   \n",
       "1    2017-10-02 00:00:00.000000  ...                  44   \n",
       "2    2017-03-07 00:00:00.000000  ...                  55   \n",
       "3    2018-04-03 00:00:00.000000  ...                  55   \n",
       "4    2017-05-24 00:00:00.000000  ...                  49   \n",
       "\n",
       "  product_description_lenght product_photos_qty  \\\n",
       "0                        625                  1   \n",
       "1                       1428                  2   \n",
       "2                        637                  1   \n",
       "3                        617                  1   \n",
       "4                        558                  2   \n",
       "\n",
       "                         product_id                         review_id  \\\n",
       "0  6cdd53843498f92890544667809f1595  b95df3cef5297e79ef709ba256518f6f   \n",
       "1  ae5cad88462eb7b7b61401e31c45618e  59af46052a799e80e2f0c665c587731d   \n",
       "2  0c9ff9d8ed9b9bdd825487b3a66e05f5  a3e6136894621db402a772c6bc72a12a   \n",
       "3  ad0a798e7941f3a5a2fb8139cb62ad78  b675ea5a618922f6e679e30531b8957b   \n",
       "4  eaf2046d4c87809247a30050ea13df03  195a8be6794c487fe6cfbb97b7c61902   \n",
       "\n",
       "   review_score  review_comment_title  \\\n",
       "0             5                   NaN   \n",
       "1             5                   NaN   \n",
       "2             5                   NaN   \n",
       "3             4                   NaN   \n",
       "4             5                   NaN   \n",
       "\n",
       "                              review_comment_message  \\\n",
       "0                                                NaN   \n",
       "1  entrega em 2 dias produto c boa qualidade otim...   \n",
       "2  produto veio antes do prazo informado muito ob...   \n",
       "3                                                NaN   \n",
       "4                                                NaN   \n",
       "\n",
       "         review_creation_date    review_answer_timestamp  \n",
       "0  2017-02-07 00:00:00.000000  2017-02-09 02:37:37+00:00  \n",
       "1  2017-09-14 00:00:00.000000  2017-09-15 03:43:47+00:00  \n",
       "2  2017-02-07 00:00:00.000000  2017-02-10 14:18:53+00:00  \n",
       "3  2018-04-04 00:00:00.000000  2018-04-05 02:52:31+00:00  \n",
       "4  2017-05-05 00:00:00.000000  2017-05-08 15:20:18+00:00  \n",
       "\n",
       "[5 rows x 25 columns]"
      ]
     },
     "execution_count": 78,
     "metadata": {},
     "output_type": "execute_result"
    }
   ],
   "source": [
    "order_en.head()"
   ]
  },
  {
   "cell_type": "code",
   "execution_count": 79,
   "metadata": {},
   "outputs": [
    {
     "data": {
      "image/png": "[encoded data removed]",
      "text/plain": [
       "<Figure size 1080x720 with 1 Axes>"
      ]
     },
     "metadata": {},
     "output_type": "display_data"
    }
   ],
   "source": [
    "# plot percentage of respective ratings.\n",
    "n = order_en.groupby('review_score')['review_score'].agg(['count'])\n",
    "\n",
    "prod_count = order_en['product_id'].nunique()\n",
    "\n",
    "cust_count = cust['customer_unique_id'].nunique() - prod_count\n",
    "\n",
    "rating_count = order_en['review_score'].count() - cust_count\n",
    "\n",
    "ax = n.plot(kind='barh', legend=False, figsize=(15, 10))\n",
    "plt.title(\n",
    "    'Total pool: {:,} Products, {:,} Customers, {:,} Ratings given'.format(\n",
    "        prod_count, cust_count, rating_count),\n",
    "    fontsize=20)\n",
    "plt.axis('off')\n",
    "\n",
    "for i in range(1, 6):\n",
    "    ax.text(n.iloc[i - 1][0] / 4,\n",
    "            i - 1,\n",
    "            'Rating {}: {:.0f}%'.format(i,\n",
    "                                        n.iloc[i - 1][0] * 100 / n.sum()[0]),\n",
    "            color='white',\n",
    "            weight='bold')"
   ]
  },
  {
   "cell_type": "markdown",
   "metadata": {},
   "source": [
    "**12% of ratings are 1 star**. This is not good news. The company should work on fixing this."
   ]
  },
  {
   "cell_type": "code",
   "execution_count": 81,
   "metadata": {},
   "outputs": [
    {
     "data": {
      "text/html": [
       "<div>\n",
       "<style scoped>\n",
       "    .dataframe tbody tr th:only-of-type {\n",
       "        vertical-align: middle;\n",
       "    }\n",
       "\n",
       "    .dataframe tbody tr th {\n",
       "        vertical-align: top;\n",
       "    }\n",
       "\n",
       "    .dataframe thead th {\n",
       "        text-align: right;\n",
       "    }\n",
       "</style>\n",
       "<table border=\"1\" class=\"dataframe\">\n",
       "  <thead>\n",
       "    <tr style=\"text-align: right;\">\n",
       "      <th></th>\n",
       "      <th>review_score</th>\n",
       "    </tr>\n",
       "    <tr>\n",
       "      <th>product_category_name_english</th>\n",
       "      <th></th>\n",
       "    </tr>\n",
       "  </thead>\n",
       "  <tbody>\n",
       "    <tr>\n",
       "      <th>bed_bath_table</th>\n",
       "      <td>10435</td>\n",
       "    </tr>\n",
       "    <tr>\n",
       "      <th>health_beauty</th>\n",
       "      <td>7939</td>\n",
       "    </tr>\n",
       "    <tr>\n",
       "      <th>sports_leisure</th>\n",
       "      <td>7832</td>\n",
       "    </tr>\n",
       "    <tr>\n",
       "      <th>furniture_decor</th>\n",
       "      <td>7728</td>\n",
       "    </tr>\n",
       "    <tr>\n",
       "      <th>watches_gifts</th>\n",
       "      <td>7130</td>\n",
       "    </tr>\n",
       "    <tr>\n",
       "      <th>computers_accessories</th>\n",
       "      <td>6329</td>\n",
       "    </tr>\n",
       "    <tr>\n",
       "      <th>housewares</th>\n",
       "      <td>6230</td>\n",
       "    </tr>\n",
       "    <tr>\n",
       "      <th>garden_tools</th>\n",
       "      <td>4570</td>\n",
       "    </tr>\n",
       "    <tr>\n",
       "      <th>cool_stuff</th>\n",
       "      <td>4315</td>\n",
       "    </tr>\n",
       "    <tr>\n",
       "      <th>toys</th>\n",
       "      <td>4114</td>\n",
       "    </tr>\n",
       "  </tbody>\n",
       "</table>\n",
       "</div>"
      ],
      "text/plain": [
       "                               review_score\n",
       "product_category_name_english              \n",
       "bed_bath_table                        10435\n",
       "health_beauty                          7939\n",
       "sports_leisure                         7832\n",
       "furniture_decor                        7728\n",
       "watches_gifts                          7130\n",
       "computers_accessories                  6329\n",
       "housewares                             6230\n",
       "garden_tools                           4570\n",
       "cool_stuff                             4315\n",
       "toys                                   4114"
      ]
     },
     "execution_count": 81,
     "metadata": {},
     "output_type": "execute_result"
    }
   ],
   "source": [
    "# listing the the most popular products.\n",
    "pop_prod = pd.DataFrame(\n",
    "    order_en.groupby('product_category_name_english')['review_score'].count())\n",
    "most_popular = pop_prod.sort_values('review_score', ascending=False)\n",
    "most_popular.head(10)"
   ]
  },
  {
   "cell_type": "code",
   "execution_count": 82,
   "metadata": {},
   "outputs": [
    {
     "data": {
      "text/plain": [
       "<matplotlib.axes._subplots.AxesSubplot at 0x7ff58ef8ded0>"
      ]
     },
     "execution_count": 82,
     "metadata": {},
     "output_type": "execute_result"
    },
    {
     "data": {
      "image/png": "[encoded data removed]",
      "text/plain": [
       "<Figure size 720x720 with 1 Axes>"
      ]
     },
     "metadata": {},
     "output_type": "display_data"
    }
   ],
   "source": [
    "plt.rcParams['figure.figsize'] = (10, 10)\n",
    "most_popular.head(30).plot(kind=\"barh\")"
   ]
  },
  {
   "cell_type": "markdown",
   "metadata": {},
   "source": [
    "Special thanks to Gita Kartika Suriah for the dataset and guiding code on GitHub. "
   ]
  },
  {
   "cell_type": "code",
   "execution_count": null,
   "metadata": {},
   "outputs": [],
   "source": []
  },
  {
   "cell_type": "code",
   "execution_count": null,
   "metadata": {},
   "outputs": [],
   "source": []
  },
  {
   "cell_type": "code",
   "execution_count": null,
   "metadata": {},
   "outputs": [],
   "source": []
  },
  {
   "cell_type": "code",
   "execution_count": null,
   "metadata": {},
   "outputs": [],
   "source": [
    "pop_prod = pd.DataFrame(\n",
    "    order_en.groupby('product_id')['review_score'].count())\n",
    "most_popular = pop_prod.sort_values('review_score', ascending=False)\n",
    "most_popular.head(10)"
   ]
  },
  {
   "cell_type": "code",
   "execution_count": null,
   "metadata": {},
   "outputs": [],
   "source": [
    "plt.rcParams['figure.figsize'] = (10, 10)\n",
    "most_popular.head(30).plot(kind=\"barh\")"
   ]
  },
  {
   "cell_type": "code",
   "execution_count": null,
   "metadata": {},
   "outputs": [],
   "source": []
  }
 ],
 "metadata": {
  "kernelspec": {
   "display_name": "Python 3",
   "language": "python",
   "name": "python3"
  },
  "language_info": {
   "codemirror_mode": {
    "name": "ipython",
    "version": 3
   },
   "file_extension": ".py",
   "mimetype": "text/x-python",
   "name": "python",
   "nbconvert_exporter": "python",
   "pygments_lexer": "ipython3",
   "version": "3.7.6"
  }
 },
 "nbformat": 4,
 "nbformat_minor": 4
}
